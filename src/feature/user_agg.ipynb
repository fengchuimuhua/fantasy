{
 "cells": [
  {
   "cell_type": "code",
   "execution_count": 80,
   "metadata": {},
   "outputs": [],
   "source": [
    "import pandas as pd\n",
    "import numpy as np\n",
    "import numpy as np\n",
    "import pandas as pd\n",
    "import matplotlib.pyplot as plt\n",
    "%matplotlib inline  \n",
    "from sklearn import linear_model\n",
    "from sklearn.metrics import r2_score\n",
    "from sklearn.preprocessing import PolynomialFeatures\n",
    "from sklearn.model_selection import StratifiedKFold\n",
    "from sklearn import ensemble\n",
    "import pandas as pd\n",
    "import numpy as np\n",
    "import datetime\n",
    "#coding:utf-8\n",
    "import pandas as pd\n",
    "import numpy as np\n",
    "import matplotlib.pyplot as plt\n",
    "%matplotlib inline  \n",
    "\n",
    "dtfmt = '%Y-%m-%d %H:%M:%S' \n",
    "import timeit\n",
    "import time\n",
    "import itertools\n",
    "import datetime\n",
    "import lightgbm as lgbm\n",
    "import math\n",
    "from  sklearn.metrics import mean_squared_error\n",
    "import fea_utils as futils"
   ]
  },
  {
   "cell_type": "code",
   "execution_count": 245,
   "metadata": {
    "collapsed": true
   },
   "outputs": [],
   "source": [
    "def gen_fea(user_fn, click_fn, order_fn, loan_fn , loan_sum_fn):\n",
    "    # step 0. INIT raw data\n",
    "    user_df = pd.read_csv(user_fn)\n",
    "    loan_df = pd.read_csv(loan_fn)\n",
    "    loan_sum_fn = pd.read_csv(loan_sum_fn)\n",
    "\n",
    "    user_df['real_limit'] = user_df.limit.map(lambda la : futils.to_real_loan(la))\n",
    "    \n",
    "    #step 1 . convert load data to real data space     \n",
    "    loan_df = transform(loan_df , 'loan_amount')\n",
    "    loan_sum_df = transform(loan_sum_fn , 'loan_sum')\n",
    "    \n",
    "    #step 2 . add loan month , dt \n",
    "    loan_df['month'] = loan_df.loan_time.apply(lambda x : x[5:7]).astype('int')\n",
    "    \n",
    "    #step 3. user per month\n",
    "    poi_set = list(set(user_df.uid))\n",
    "    months = [8 , 9 ,10 , 11]\n",
    "    poi_month = []\n",
    "    import itertools\n",
    "    for x in itertools.product(poi_set , months):\n",
    "        poi_month.append(x)\n",
    "    poi_per_month_df = pd.DataFrame(poi_month , columns=['uid','month'])\n",
    "    \n",
    "    #step 4. user loan agg info, mean,max,median,\n",
    "\n",
    "    func_names = ['sum','mean','std', 'min' ,'max' ,'median','mad','skew','kurt' ]\n",
    "    funcs = [np.sum , np.mean , np.std , np.min , np.max , np.median ,pd.Series.mad , pd.Series.skew , pd.Series.kurt]\n",
    "    column_names = [ 'real_loan_amount_' + t for t in func_names]\n",
    "    user_statistics_df = loan_df.groupby(['uid']).agg({\"real_loan_amount\":funcs , 'plannum':funcs})\n",
    "    user_statistics_amount_df = user_statistics_df['real_loan_amount'] \n",
    "    user_statistics_amount_df.columns = column_names\n",
    "    user_statistics_amount_df = user_statistics_amount_df.reset_index() # add uid to column\n",
    "    user_agg_df = user_statistics_amount_df\n",
    "    \n",
    "#     user_statistics_plannum_df = user_statistics_df['plannum']\n",
    "#     column_names = [ 'plannum' + t for t in func_names]\n",
    "#     user_statistics_plannum_df.columns = column_names\n",
    "#     user_statistics_plannum_df = user_statistics_plannum_df.reset_index() #add uid to column \n",
    "    \n",
    "#    user_agg_df = pd.merge(user_statistics_amount_df ,user_statistics_plannum_df , on=['uid'])\n",
    "    \n",
    "        \n",
    "    #step 5. user month loan sum \n",
    "       \n",
    "    user_month_sum_df = loan_df.groupby(['uid','month']).agg({\"real_loan_amount\": np.sum ,\"plannum\":np.sum }).reset_index()\n",
    "    \n",
    "    #setp 6. user month loan sum agg info. mean,max,....\n",
    "    column_names = [ 'real_loan_amount_month_' + t for t in func_names]\n",
    "    user_month_statistics_df = user_month_sum_df.groupby(['uid']).agg({\"real_loan_amount\":funcs , 'plannum':funcs})\n",
    "    user_month_statistics_amount_df = user_month_statistics_df[['real_loan_amount']]\n",
    "    user_month_statistics_amount_df.columns = column_names\n",
    "    user_month_statistics_amount_df = user_month_statistics_amount_df.reset_index()\n",
    "    user_month_agg_df = user_month_statistics_amount_df\n",
    "    \n",
    "#     column_names = [ 'plannum_month_' + t for t in func_names]\n",
    "#     user_month_statistics_plannum_df = user_month_statistics_df[['plannum']]\n",
    "#     user_month_statistics_plannum_df.columns = column_names\n",
    "#     user_month_statistics_plannum_df = user_month_statistics_plannum_df.reset_index()\n",
    "        \n",
    "#     user_month_agg_df = pd.merge(user_month_statistics_amount_df ,user_month_statistics_plannum_df , on=['uid'] )\n",
    "    \n",
    "    \n",
    "    \n",
    "    #step 7. user month loan sum \n",
    "    \n",
    "    flatten_user_month_sum_df = pd.merge( poi_per_month_df , user_month_sum_df , on=['uid' , 'month'] , how='left').fillna(0)\n",
    "    flatten_user_month_sum_df = flatten_user_month_sum_df.fillna(0)\n",
    "    \n",
    "    flatten_user_month_sum_df = flatten_user_month_sum_df.set_index(['uid','month'])['real_loan_amount'].unstack().reset_index()\n",
    "    flatten_user_month_sum_df.columns = [ 'uid','aug','sep','oct','nov']\n",
    "    \n",
    "    \n",
    "    #step 8. feature agg \n",
    "    \n",
    "    user_loan_feature_df = pd.merge(flatten_user_month_sum_df , user_agg_df , on=['uid'] , how='left' ).fillna(0)\n",
    "    user_loan_feature_df = pd.merge(user_loan_feature_df , user_month_agg_df , on=['uid'] , how='left').fillna(0)\n",
    "    user_loan_feature_df = pd.merge(user_loan_feature_df , loan_sum_df , on=['uid'] , how='left').fillna(0)\n",
    "    user_loan_feature_df = pd.merge(user_loan_feature_df , user_df[['uid','real_limit','age','sex']] , on=['uid'])\n",
    "    #step 9. save file \n",
    "    user_loan_feature_df.to_csv(\"user_all.csv\")\n",
    "    return user_loan_feature_df[['uid','aug','sep','oct','nov','real_loan_amount_sum','real_loan_amount_mean','real_loan_amount_std','real_loan_amount_min','real_loan_amount_max','real_loan_amount_median','real_loan_amount_mad','real_loan_amount_skew','real_loan_amount_kurt','real_loan_amount_month_sum','real_loan_amount_month_mean','real_loan_amount_month_std','real_loan_amount_month_min','real_loan_amount_month_max','real_loan_amount_month_median','real_loan_amount_month_mad','real_loan_amount_month_skew','real_loan_amount_month_kurt','loan_sum','real_loan_sum','real_limit','age','sex']]\n",
    "\n",
    "def transform(data , column_name):\n",
    "   \n",
    "    new_column_name = \"real_\" + column_name\n",
    "    new_column = data[column_name].apply(lambda x :5**x - 1)\n",
    "    data[new_column_name] = new_column\n",
    "    return data "
   ]
  },
  {
   "cell_type": "code",
   "execution_count": 246,
   "metadata": {},
   "outputs": [
    {
     "name": "stdout",
     "output_type": "stream",
     "text": [
      "time cost : 0:01:50.224512\n"
     ]
    }
   ],
   "source": [
    "\n",
    "st = datetime.datetime.now()\n",
    "user_fn = '../../../raw_data/t_user.csv'\n",
    "click_fn = '../../../raw_data/t_click.csv'\n",
    "order_fn = '../../../raw_data/t_order.csv'\n",
    "loan_fn = '../../../raw_data/t_loan.csv'\n",
    "loan_sum_fn = '../../../raw_data/t_loan_sum.csv'\n",
    "\n",
    "train_data = gen_fea(user_fn, click_fn, order_fn, loan_fn , loan_sum_fn)\n",
    "et = datetime.datetime.now()\n",
    "print 'time cost : ' + str(et - st)"
   ]
  },
  {
   "cell_type": "markdown",
   "metadata": {},
   "source": [
    "# 构造训练集"
   ]
  },
  {
   "cell_type": "code",
   "execution_count": 153,
   "metadata": {},
   "outputs": [],
   "source": [
    "user_month_date = pd.read_csv('fea_user_month.csv')\n",
    "dataset = pd.merge(train_data , user_month_date , on = ['uid'] , how='left')"
   ]
  },
  {
   "cell_type": "code",
   "execution_count": 175,
   "metadata": {},
   "outputs": [
    {
     "data": {
      "text/plain": [
       "Index([u'uid', u'aug', u'sep', u'oct', u'nov', u'real_loan_amount_sum',\n",
       "       u'real_loan_amount_mean', u'real_loan_amount_std',\n",
       "       u'real_loan_amount_min', u'real_loan_amount_max',\n",
       "       u'real_loan_amount_median', u'real_loan_amount_mad',\n",
       "       u'real_loan_amount_skew', u'real_loan_amount_kurt',\n",
       "       u'real_loan_amount_month_sum', u'real_loan_amount_month_mean',\n",
       "       u'real_loan_amount_month_std', u'real_loan_amount_month_min',\n",
       "       u'real_loan_amount_month_max', u'real_loan_amount_month_median',\n",
       "       u'real_loan_amount_month_mad', u'real_loan_amount_month_skew',\n",
       "       u'real_loan_amount_month_kurt', u'loan_sum', u'real_loan_sum',\n",
       "       u'real_limit_x', u'age', u'sex', u'Unnamed: 0', u'month',\n",
       "       u'real_limit_y', u'month_need_pay', u'left_balance',\n",
       "       u'real_loan_amount', u'tuned_limit'],\n",
       "      dtype='object')"
      ]
     },
     "execution_count": 175,
     "metadata": {},
     "output_type": "execute_result"
    }
   ],
   "source": [
    "dataset.columns"
   ]
  },
  {
   "cell_type": "code",
   "execution_count": 176,
   "metadata": {},
   "outputs": [],
   "source": [
    "train = dataset[dataset.month==10]\n",
    "test = dataset[dataset.month==11]\n",
    "\n",
    "drop_list = ['uid' , 'nov' , 'real_loan_sum' , 'month','loan_sum','Unnamed: 0','age','sex','real_limit_x','real_limit_y']\n",
    "train_feature_names = np.setdiff1d(train.columns , drop_list)\n",
    "target = ['loan_sum']\n",
    "\n",
    "drop_list = ['uid' , 'aug' , 'real_loan_sum' , 'month','loan_sum','Unnamed: 0','age','sex','real_limit_x','real_limit_y']\n",
    "test_feature_names = np.setdiff1d(test.columns , drop_list)\n"
   ]
  },
  {
   "cell_type": "code",
   "execution_count": 183,
   "metadata": {},
   "outputs": [
    {
     "data": {
      "text/plain": [
       "25"
      ]
     },
     "execution_count": 183,
     "metadata": {},
     "output_type": "execute_result"
    }
   ],
   "source": [
    "len(train_feature_names)"
   ]
  },
  {
   "cell_type": "code",
   "execution_count": 234,
   "metadata": {
    "scrolled": true
   },
   "outputs": [
    {
     "name": "stdout",
     "output_type": "stream",
     "text": [
      "[1]\tvalid_0's l2: 5.2559\tvalid_0's auc: 0.979374\n",
      "[2]\tvalid_0's l2: 5.17925\tvalid_0's auc: 0.987679\n",
      "[3]\tvalid_0's l2: 5.10467\tvalid_0's auc: 0.988735\n",
      "[4]\tvalid_0's l2: 5.03095\tvalid_0's auc: 0.987495\n",
      "[5]\tvalid_0's l2: 4.9587\tvalid_0's auc: 0.987142\n",
      "[6]\tvalid_0's l2: 4.88823\tvalid_0's auc: 0.986761\n",
      "[7]\tvalid_0's l2: 4.81885\tvalid_0's auc: 0.986893\n",
      "[8]\tvalid_0's l2: 4.7512\tvalid_0's auc: 0.98596\n",
      "[9]\tvalid_0's l2: 4.68446\tvalid_0's auc: 0.985878\n",
      "[10]\tvalid_0's l2: 4.61954\tvalid_0's auc: 0.986133\n",
      "[11]\tvalid_0's l2: 4.55545\tvalid_0's auc: 0.986793\n",
      "[12]\tvalid_0's l2: 4.49255\tvalid_0's auc: 0.986475\n",
      "[13]\tvalid_0's l2: 4.43094\tvalid_0's auc: 0.9873\n",
      "[14]\tvalid_0's l2: 4.37047\tvalid_0's auc: 0.987193\n",
      "[15]\tvalid_0's l2: 4.31195\tvalid_0's auc: 0.988468\n",
      "[16]\tvalid_0's l2: 4.25355\tvalid_0's auc: 0.988326\n",
      "[17]\tvalid_0's l2: 4.19764\tvalid_0's auc: 0.988724\n",
      "[18]\tvalid_0's l2: 4.14196\tvalid_0's auc: 0.988767\n",
      "[19]\tvalid_0's l2: 4.08677\tvalid_0's auc: 0.988975\n",
      "[20]\tvalid_0's l2: 4.0333\tvalid_0's auc: 0.989201\n",
      "[21]\tvalid_0's l2: 3.98002\tvalid_0's auc: 0.989151\n",
      "[22]\tvalid_0's l2: 3.92793\tvalid_0's auc: 0.989113\n",
      "[23]\tvalid_0's l2: 3.87684\tvalid_0's auc: 0.989334\n",
      "[24]\tvalid_0's l2: 3.82665\tvalid_0's auc: 0.989483\n",
      "[25]\tvalid_0's l2: 3.77734\tvalid_0's auc: 0.989237\n",
      "[26]\tvalid_0's l2: 3.72991\tvalid_0's auc: 0.989204\n",
      "[27]\tvalid_0's l2: 3.6867\tvalid_0's auc: 0.989607\n",
      "[28]\tvalid_0's l2: 3.64108\tvalid_0's auc: 0.989442\n",
      "[29]\tvalid_0's l2: 3.59629\tvalid_0's auc: 0.989233\n",
      "[30]\tvalid_0's l2: 3.55225\tvalid_0's auc: 0.989118\n",
      "[31]\tvalid_0's l2: 3.50905\tvalid_0's auc: 0.989123\n",
      "[32]\tvalid_0's l2: 3.46689\tvalid_0's auc: 0.989103\n",
      "[33]\tvalid_0's l2: 3.42508\tvalid_0's auc: 0.989025\n",
      "[34]\tvalid_0's l2: 3.38411\tvalid_0's auc: 0.988908\n",
      "[35]\tvalid_0's l2: 3.34394\tvalid_0's auc: 0.988843\n",
      "[36]\tvalid_0's l2: 3.30531\tvalid_0's auc: 0.988998\n",
      "[37]\tvalid_0's l2: 3.26744\tvalid_0's auc: 0.989218\n",
      "[38]\tvalid_0's l2: 3.23032\tvalid_0's auc: 0.989453\n",
      "[39]\tvalid_0's l2: 3.19266\tvalid_0's auc: 0.989452\n",
      "[40]\tvalid_0's l2: 3.15689\tvalid_0's auc: 0.989713\n",
      "[41]\tvalid_0's l2: 3.12057\tvalid_0's auc: 0.989934\n",
      "[42]\tvalid_0's l2: 3.08515\tvalid_0's auc: 0.989957\n",
      "[43]\tvalid_0's l2: 3.04947\tvalid_0's auc: 0.990049\n",
      "[44]\tvalid_0's l2: 3.01542\tvalid_0's auc: 0.990011\n",
      "[45]\tvalid_0's l2: 2.98279\tvalid_0's auc: 0.990092\n",
      "[46]\tvalid_0's l2: 2.95292\tvalid_0's auc: 0.990125\n",
      "[47]\tvalid_0's l2: 2.92137\tvalid_0's auc: 0.990085\n",
      "[48]\tvalid_0's l2: 2.89016\tvalid_0's auc: 0.990155\n",
      "[49]\tvalid_0's l2: 2.85871\tvalid_0's auc: 0.990242\n",
      "[50]\tvalid_0's l2: 2.82898\tvalid_0's auc: 0.99038\n",
      "[51]\tvalid_0's l2: 2.79845\tvalid_0's auc: 0.990498\n",
      "[52]\tvalid_0's l2: 2.76854\tvalid_0's auc: 0.990593\n",
      "[53]\tvalid_0's l2: 2.74069\tvalid_0's auc: 0.990803\n",
      "[54]\tvalid_0's l2: 2.70971\tvalid_0's auc: 0.991008\n",
      "[55]\tvalid_0's l2: 2.67968\tvalid_0's auc: 0.991028\n",
      "[56]\tvalid_0's l2: 2.6518\tvalid_0's auc: 0.991169\n",
      "[57]\tvalid_0's l2: 2.6239\tvalid_0's auc: 0.99121\n",
      "[58]\tvalid_0's l2: 2.59646\tvalid_0's auc: 0.991276\n",
      "[59]\tvalid_0's l2: 2.56915\tvalid_0's auc: 0.991329\n",
      "[60]\tvalid_0's l2: 2.54224\tvalid_0's auc: 0.991401\n",
      "[61]\tvalid_0's l2: 2.51471\tvalid_0's auc: 0.991446\n",
      "[62]\tvalid_0's l2: 2.48927\tvalid_0's auc: 0.991513\n",
      "[63]\tvalid_0's l2: 2.4659\tvalid_0's auc: 0.991554\n",
      "[64]\tvalid_0's l2: 2.44158\tvalid_0's auc: 0.991613\n",
      "[65]\tvalid_0's l2: 2.41671\tvalid_0's auc: 0.99161\n",
      "[66]\tvalid_0's l2: 2.39302\tvalid_0's auc: 0.991631\n",
      "[67]\tvalid_0's l2: 2.36844\tvalid_0's auc: 0.991748\n",
      "[68]\tvalid_0's l2: 2.34393\tvalid_0's auc: 0.991783\n",
      "[69]\tvalid_0's l2: 2.31999\tvalid_0's auc: 0.991806\n",
      "[70]\tvalid_0's l2: 2.29644\tvalid_0's auc: 0.99184\n",
      "[71]\tvalid_0's l2: 2.2758\tvalid_0's auc: 0.99185\n",
      "[72]\tvalid_0's l2: 2.25404\tvalid_0's auc: 0.991987\n",
      "[73]\tvalid_0's l2: 2.23257\tvalid_0's auc: 0.992031\n",
      "[74]\tvalid_0's l2: 2.21138\tvalid_0's auc: 0.992103\n",
      "[75]\tvalid_0's l2: 2.19155\tvalid_0's auc: 0.99215\n",
      "[76]\tvalid_0's l2: 2.17149\tvalid_0's auc: 0.992249\n",
      "[77]\tvalid_0's l2: 2.15216\tvalid_0's auc: 0.99229\n",
      "[78]\tvalid_0's l2: 2.13236\tvalid_0's auc: 0.992347\n",
      "[79]\tvalid_0's l2: 2.11279\tvalid_0's auc: 0.992382\n",
      "[80]\tvalid_0's l2: 2.09505\tvalid_0's auc: 0.992423\n",
      "[81]\tvalid_0's l2: 2.07722\tvalid_0's auc: 0.992465\n",
      "[82]\tvalid_0's l2: 2.05894\tvalid_0's auc: 0.992539\n",
      "[83]\tvalid_0's l2: 2.04212\tvalid_0's auc: 0.992527\n",
      "[84]\tvalid_0's l2: 2.02413\tvalid_0's auc: 0.992549\n",
      "[85]\tvalid_0's l2: 2.00674\tvalid_0's auc: 0.9926\n",
      "[86]\tvalid_0's l2: 1.99006\tvalid_0's auc: 0.992629\n",
      "[87]\tvalid_0's l2: 1.97357\tvalid_0's auc: 0.992631\n",
      "[88]\tvalid_0's l2: 1.95737\tvalid_0's auc: 0.992643\n",
      "[89]\tvalid_0's l2: 1.94132\tvalid_0's auc: 0.992647\n",
      "[90]\tvalid_0's l2: 1.92516\tvalid_0's auc: 0.992648\n",
      "[91]\tvalid_0's l2: 1.90955\tvalid_0's auc: 0.992682\n",
      "[92]\tvalid_0's l2: 1.89403\tvalid_0's auc: 0.992712\n",
      "[93]\tvalid_0's l2: 1.87863\tvalid_0's auc: 0.992738\n",
      "[94]\tvalid_0's l2: 1.86391\tvalid_0's auc: 0.992748\n",
      "[95]\tvalid_0's l2: 1.84917\tvalid_0's auc: 0.992764\n",
      "[96]\tvalid_0's l2: 1.83381\tvalid_0's auc: 0.992838\n",
      "[97]\tvalid_0's l2: 1.82\tvalid_0's auc: 0.99287\n",
      "[98]\tvalid_0's l2: 1.80612\tvalid_0's auc: 0.992889\n",
      "[99]\tvalid_0's l2: 1.79182\tvalid_0's auc: 0.992899\n",
      "[100]\tvalid_0's l2: 1.77733\tvalid_0's auc: 0.992975\n",
      "[101]\tvalid_0's l2: 1.763\tvalid_0's auc: 0.993024\n",
      "[102]\tvalid_0's l2: 1.74928\tvalid_0's auc: 0.993071\n",
      "[103]\tvalid_0's l2: 1.73686\tvalid_0's auc: 0.993087\n",
      "[104]\tvalid_0's l2: 1.7239\tvalid_0's auc: 0.993103\n",
      "[105]\tvalid_0's l2: 1.71077\tvalid_0's auc: 0.993127\n",
      "[106]\tvalid_0's l2: 1.69897\tvalid_0's auc: 0.993131\n",
      "[107]\tvalid_0's l2: 1.68635\tvalid_0's auc: 0.993143\n",
      "[108]\tvalid_0's l2: 1.67414\tvalid_0's auc: 0.99317\n",
      "[109]\tvalid_0's l2: 1.66252\tvalid_0's auc: 0.993158\n",
      "[110]\tvalid_0's l2: 1.65118\tvalid_0's auc: 0.993211\n",
      "[111]\tvalid_0's l2: 1.63861\tvalid_0's auc: 0.993259\n",
      "[112]\tvalid_0's l2: 1.62629\tvalid_0's auc: 0.9933\n",
      "[113]\tvalid_0's l2: 1.61426\tvalid_0's auc: 0.99334\n",
      "[114]\tvalid_0's l2: 1.6026\tvalid_0's auc: 0.993375\n",
      "[115]\tvalid_0's l2: 1.5912\tvalid_0's auc: 0.993383\n",
      "[116]\tvalid_0's l2: 1.58011\tvalid_0's auc: 0.993383\n",
      "[117]\tvalid_0's l2: 1.56917\tvalid_0's auc: 0.99339\n",
      "[118]\tvalid_0's l2: 1.55927\tvalid_0's auc: 0.993412\n",
      "[119]\tvalid_0's l2: 1.54859\tvalid_0's auc: 0.993438\n",
      "[120]\tvalid_0's l2: 1.53885\tvalid_0's auc: 0.993435\n",
      "[121]\tvalid_0's l2: 1.52721\tvalid_0's auc: 0.993495\n",
      "[122]\tvalid_0's l2: 1.51584\tvalid_0's auc: 0.993542\n",
      "[123]\tvalid_0's l2: 1.50568\tvalid_0's auc: 0.993569\n",
      "[124]\tvalid_0's l2: 1.49635\tvalid_0's auc: 0.993576\n",
      "[125]\tvalid_0's l2: 1.48605\tvalid_0's auc: 0.993598\n",
      "[126]\tvalid_0's l2: 1.47612\tvalid_0's auc: 0.993624\n",
      "[127]\tvalid_0's l2: 1.46615\tvalid_0's auc: 0.993642\n",
      "[128]\tvalid_0's l2: 1.45721\tvalid_0's auc: 0.993651\n",
      "[129]\tvalid_0's l2: 1.4476\tvalid_0's auc: 0.993658\n",
      "[130]\tvalid_0's l2: 1.43846\tvalid_0's auc: 0.993671\n",
      "[131]\tvalid_0's l2: 1.42736\tvalid_0's auc: 0.993792\n",
      "[132]\tvalid_0's l2: 1.41636\tvalid_0's auc: 0.993906\n",
      "[133]\tvalid_0's l2: 1.40557\tvalid_0's auc: 0.994015\n",
      "[134]\tvalid_0's l2: 1.39578\tvalid_0's auc: 0.994082\n",
      "[135]\tvalid_0's l2: 1.38771\tvalid_0's auc: 0.994106\n",
      "[136]\tvalid_0's l2: 1.37992\tvalid_0's auc: 0.994112\n",
      "[137]\tvalid_0's l2: 1.37223\tvalid_0's auc: 0.994117\n",
      "[138]\tvalid_0's l2: 1.36399\tvalid_0's auc: 0.99413\n",
      "[139]\tvalid_0's l2: 1.35582\tvalid_0's auc: 0.994158\n",
      "[140]\tvalid_0's l2: 1.34784\tvalid_0's auc: 0.994178\n",
      "[141]\tvalid_0's l2: 1.3404\tvalid_0's auc: 0.994182\n",
      "[142]\tvalid_0's l2: 1.33286\tvalid_0's auc: 0.994202\n",
      "[143]\tvalid_0's l2: 1.32514\tvalid_0's auc: 0.994221\n",
      "[144]\tvalid_0's l2: 1.31759\tvalid_0's auc: 0.99424\n",
      "[145]\tvalid_0's l2: 1.30933\tvalid_0's auc: 0.994264\n",
      "[146]\tvalid_0's l2: 1.30066\tvalid_0's auc: 0.994327\n",
      "[147]\tvalid_0's l2: 1.29216\tvalid_0's auc: 0.994387\n",
      "[148]\tvalid_0's l2: 1.28391\tvalid_0's auc: 0.994447\n",
      "[149]\tvalid_0's l2: 1.27609\tvalid_0's auc: 0.994472\n",
      "[150]\tvalid_0's l2: 1.26908\tvalid_0's auc: 0.994484\n"
     ]
    }
   ],
   "source": [
    "y_train = (train[target].values)[: , 0]\n",
    "y_test = (train[target].values)[:,0]\n",
    "X_train = train[train_feature_names].values\n",
    "X_test = train[train_feature_names].values\n",
    "\n",
    "X_predict= test[test_feature_names].values\n",
    "# create dataset for lightgbm\n",
    "lgb_train = lgbm.Dataset(X_train, y_train)\n",
    "lgb_eval = lgbm.Dataset(X_test, y_test, reference=lgb_train)\n",
    "\n",
    "\n",
    "params = {\n",
    "    'task': 'train',\n",
    "    'boosting_type': 'gbdt',\n",
    "    'objective':'regression',\n",
    "    'max_depth':5, \n",
    "    'metric':{'l2','auc'},\n",
    "    'num_trees': 150,\n",
    "    'learning_rate': 0.01,\n",
    "    'feature_fraction': 0.9,\n",
    "    'bagging_fraction': 0.8,\n",
    "    'bagging_freq': 5,\n",
    "    'verbose': 0,\n",
    "    \n",
    "}\n",
    "\n",
    "gbm = lgbm.train(params,\n",
    "                lgb_train,\n",
    "                num_boost_round=100,\n",
    "                valid_sets=lgb_eval\n",
    "               )\n"
   ]
  },
  {
   "cell_type": "code",
   "execution_count": 173,
   "metadata": {},
   "outputs": [
    {
     "data": {
      "text/plain": [
       "<matplotlib.axes._subplots.AxesSubplot at 0x118917f90>"
      ]
     },
     "execution_count": 173,
     "metadata": {},
     "output_type": "execute_result"
    },
    {
     "data": {
      "image/png": "[encoded data removed]",
      "text/plain": [
       "<matplotlib.figure.Figure at 0x13f87bc10>"
      ]
     },
     "metadata": {},
     "output_type": "display_data"
    }
   ],
   "source": [
    "lgbm.plot_tree(gbm , figsize=(100,100))"
   ]
  },
  {
   "cell_type": "code",
   "execution_count": 222,
   "metadata": {
    "scrolled": true
   },
   "outputs": [
    {
     "data": {
      "text/html": [
       "<div>\n",
       "<table border=\"1\" class=\"dataframe\">\n",
       "  <thead>\n",
       "    <tr style=\"text-align: right;\">\n",
       "      <th></th>\n",
       "      <th>featuren</th>\n",
       "      <th>importance</th>\n",
       "    </tr>\n",
       "  </thead>\n",
       "  <tbody>\n",
       "    <tr>\n",
       "      <th>19</th>\n",
       "      <td>real_loan_amount_month_sum</td>\n",
       "      <td>499</td>\n",
       "    </tr>\n",
       "    <tr>\n",
       "      <th>14</th>\n",
       "      <td>real_loan_amount_month_mean</td>\n",
       "      <td>363</td>\n",
       "    </tr>\n",
       "    <tr>\n",
       "      <th>0</th>\n",
       "      <td>aug</td>\n",
       "      <td>267</td>\n",
       "    </tr>\n",
       "    <tr>\n",
       "      <th>15</th>\n",
       "      <td>real_loan_amount_month_median</td>\n",
       "      <td>193</td>\n",
       "    </tr>\n",
       "    <tr>\n",
       "      <th>2</th>\n",
       "      <td>month_need_pay</td>\n",
       "      <td>190</td>\n",
       "    </tr>\n",
       "    <tr>\n",
       "      <th>11</th>\n",
       "      <td>real_loan_amount_month_kurt</td>\n",
       "      <td>178</td>\n",
       "    </tr>\n",
       "    <tr>\n",
       "      <th>23</th>\n",
       "      <td>sep</td>\n",
       "      <td>168</td>\n",
       "    </tr>\n",
       "    <tr>\n",
       "      <th>16</th>\n",
       "      <td>real_loan_amount_month_min</td>\n",
       "      <td>142</td>\n",
       "    </tr>\n",
       "    <tr>\n",
       "      <th>3</th>\n",
       "      <td>oct</td>\n",
       "      <td>139</td>\n",
       "    </tr>\n",
       "    <tr>\n",
       "      <th>13</th>\n",
       "      <td>real_loan_amount_month_max</td>\n",
       "      <td>94</td>\n",
       "    </tr>\n",
       "    <tr>\n",
       "      <th>1</th>\n",
       "      <td>left_balance</td>\n",
       "      <td>93</td>\n",
       "    </tr>\n",
       "    <tr>\n",
       "      <th>7</th>\n",
       "      <td>real_loan_amount_max</td>\n",
       "      <td>87</td>\n",
       "    </tr>\n",
       "    <tr>\n",
       "      <th>12</th>\n",
       "      <td>real_loan_amount_month_mad</td>\n",
       "      <td>86</td>\n",
       "    </tr>\n",
       "    <tr>\n",
       "      <th>22</th>\n",
       "      <td>real_loan_amount_sum</td>\n",
       "      <td>59</td>\n",
       "    </tr>\n",
       "    <tr>\n",
       "      <th>17</th>\n",
       "      <td>real_loan_amount_month_skew</td>\n",
       "      <td>24</td>\n",
       "    </tr>\n",
       "    <tr>\n",
       "      <th>4</th>\n",
       "      <td>real_loan_amount</td>\n",
       "      <td>24</td>\n",
       "    </tr>\n",
       "    <tr>\n",
       "      <th>8</th>\n",
       "      <td>real_loan_amount_mean</td>\n",
       "      <td>20</td>\n",
       "    </tr>\n",
       "    <tr>\n",
       "      <th>18</th>\n",
       "      <td>real_loan_amount_month_std</td>\n",
       "      <td>18</td>\n",
       "    </tr>\n",
       "    <tr>\n",
       "      <th>6</th>\n",
       "      <td>real_loan_amount_mad</td>\n",
       "      <td>3</td>\n",
       "    </tr>\n",
       "    <tr>\n",
       "      <th>9</th>\n",
       "      <td>real_loan_amount_median</td>\n",
       "      <td>2</td>\n",
       "    </tr>\n",
       "    <tr>\n",
       "      <th>10</th>\n",
       "      <td>real_loan_amount_min</td>\n",
       "      <td>0</td>\n",
       "    </tr>\n",
       "    <tr>\n",
       "      <th>5</th>\n",
       "      <td>real_loan_amount_kurt</td>\n",
       "      <td>0</td>\n",
       "    </tr>\n",
       "    <tr>\n",
       "      <th>20</th>\n",
       "      <td>real_loan_amount_skew</td>\n",
       "      <td>0</td>\n",
       "    </tr>\n",
       "    <tr>\n",
       "      <th>21</th>\n",
       "      <td>real_loan_amount_std</td>\n",
       "      <td>0</td>\n",
       "    </tr>\n",
       "    <tr>\n",
       "      <th>24</th>\n",
       "      <td>tuned_limit</td>\n",
       "      <td>0</td>\n",
       "    </tr>\n",
       "  </tbody>\n",
       "</table>\n",
       "</div>"
      ],
      "text/plain": [
       "                         featuren  importance\n",
       "19     real_loan_amount_month_sum         499\n",
       "14    real_loan_amount_month_mean         363\n",
       "0                             aug         267\n",
       "15  real_loan_amount_month_median         193\n",
       "2                  month_need_pay         190\n",
       "11    real_loan_amount_month_kurt         178\n",
       "23                            sep         168\n",
       "16     real_loan_amount_month_min         142\n",
       "3                             oct         139\n",
       "13     real_loan_amount_month_max          94\n",
       "1                    left_balance          93\n",
       "7            real_loan_amount_max          87\n",
       "12     real_loan_amount_month_mad          86\n",
       "22           real_loan_amount_sum          59\n",
       "17    real_loan_amount_month_skew          24\n",
       "4                real_loan_amount          24\n",
       "8           real_loan_amount_mean          20\n",
       "18     real_loan_amount_month_std          18\n",
       "6            real_loan_amount_mad           3\n",
       "9         real_loan_amount_median           2\n",
       "10           real_loan_amount_min           0\n",
       "5           real_loan_amount_kurt           0\n",
       "20          real_loan_amount_skew           0\n",
       "21           real_loan_amount_std           0\n",
       "24                    tuned_limit           0"
      ]
     },
     "execution_count": 222,
     "metadata": {},
     "output_type": "execute_result"
    }
   ],
   "source": [
    " pd.DataFrame(zip(train_feature_names, gbm.feature_importance(importance_type='split', iteration=-1))  , columns=['featuren','importance']).sort_values(['importance'] , ascending=False)"
   ]
  },
  {
   "cell_type": "code",
   "execution_count": 235,
   "metadata": {
    "scrolled": true
   },
   "outputs": [
    {
     "data": {
      "text/plain": [
       "1.2697032056417861"
      ]
     },
     "execution_count": 235,
     "metadata": {},
     "output_type": "execute_result"
    }
   ],
   "source": [
    "#train rmse\n",
    "res = pd.DataFrame( zip(gbm.predict(X_train) , y_train) , columns=['predict','gt']  )\n",
    "res['uid'] = train_data.uid\n",
    "mean_squared_error(res['gt'] , res.predict)"
   ]
  },
  {
   "cell_type": "code",
   "execution_count": 236,
   "metadata": {},
   "outputs": [
    {
     "data": {
      "text/plain": [
       "(array([ 61880.,   2493.,   2203.,   3866.,   3262.,   3714.,   3365.,\n",
       "          4728.,   3831.,   1651.]),\n",
       " array([ 0.15081186,  0.68066362,  1.21051538,  1.74036714,  2.2702189 ,\n",
       "         2.80007065,  3.32992241,  3.85977417,  4.38962593,  4.91947769,\n",
       "         5.44932944]),\n",
       " <a list of 10 Patch objects>)"
      ]
     },
     "execution_count": 236,
     "metadata": {},
     "output_type": "execute_result"
    },
    {
     "data": {
      "image/png": "[encoded data removed]",
      "text/plain": [
       "<matplotlib.figure.Figure at 0x111e4d950>"
      ]
     },
     "metadata": {},
     "output_type": "display_data"
    }
   ],
   "source": [
    "plt.hist(res.predict)"
   ]
  },
  {
   "cell_type": "code",
   "execution_count": 237,
   "metadata": {},
   "outputs": [
    {
     "data": {
      "text/plain": [
       "Index([u'predict', u'gt', u'uid'], dtype='object')"
      ]
     },
     "execution_count": 237,
     "metadata": {},
     "output_type": "execute_result"
    }
   ],
   "source": [
    "res.columns"
   ]
  },
  {
   "cell_type": "code",
   "execution_count": 238,
   "metadata": {},
   "outputs": [
    {
     "data": {
      "text/plain": [
       "(array([  7.14730000e+04,   0.00000000e+00,   0.00000000e+00,\n",
       "          0.00000000e+00,   7.81000000e+02,   3.58500000e+03,\n",
       "          8.53500000e+03,   6.09300000e+03,   5.19000000e+02,\n",
       "          7.00000000e+00]),\n",
       " array([ 0.        ,  0.84330191,  1.68660382,  2.52990573,  3.37320764,\n",
       "         4.21650955,  5.05981146,  5.90311337,  6.74641527,  7.58971718,\n",
       "         8.43301909]),\n",
       " <a list of 10 Patch objects>)"
      ]
     },
     "execution_count": 238,
     "metadata": {},
     "output_type": "execute_result"
    },
    {
     "data": {
      "image/png": "[encoded data removed]",
      "text/plain": [
       "<matplotlib.figure.Figure at 0x1123d02d0>"
      ]
     },
     "metadata": {},
     "output_type": "display_data"
    }
   ],
   "source": [
    "plt.hist(res['gt'])"
   ]
  },
  {
   "cell_type": "code",
   "execution_count": 243,
   "metadata": {},
   "outputs": [],
   "source": [
    "#submmision\n",
    "res = pd.DataFrame( (gbm.predict(X_predict) ) , columns=['predict_real']  )\n",
    "res['uid'] = train_data.uid\n",
    "res[['uid','predict_real']].to_csv('../model/20171202.csv',index=False, header=False,)"
   ]
  },
  {
   "cell_type": "code",
   "execution_count": 244,
   "metadata": {},
   "outputs": [
    {
     "data": {
      "text/plain": [
       "90993"
      ]
     },
     "execution_count": 244,
     "metadata": {},
     "output_type": "execute_result"
    }
   ],
   "source": [
    "res.shape[0]"
   ]
  },
  {
   "cell_type": "code",
   "execution_count": 173,
   "metadata": {
    "collapsed": true
   },
   "outputs": [],
   "source": [
    "from sklearn.metrics import mean_squared_error, r2_score"
   ]
  },
  {
   "cell_type": "code",
   "execution_count": 26,
   "metadata": {},
   "outputs": [
    {
     "data": {
      "text/plain": [
       "90993"
      ]
     },
     "execution_count": 26,
     "metadata": {},
     "output_type": "execute_result"
    }
   ],
   "source": [
    "res.shape[0]"
   ]
  },
  {
   "cell_type": "code",
   "execution_count": 193,
   "metadata": {},
   "outputs": [
    {
     "data": {
      "text/plain": [
       "46"
      ]
     },
     "execution_count": 193,
     "metadata": {},
     "output_type": "execute_result"
    }
   ],
   "source": [
    "plt.hist(res.predict_real)"
   ]
  },
  {
   "cell_type": "code",
   "execution_count": 235,
   "metadata": {},
   "outputs": [
    {
     "data": {
      "text/plain": [
       "(array([ 54296.,      0.,      0.,    687.,     75.,  16415.,      0.,\n",
       "             0.,      0.,  19520.]),\n",
       " array([ 0.        ,  0.28675356,  0.57350712,  0.86026068,  1.14701424,\n",
       "         1.4337678 ,  1.72052136,  2.00727492,  2.29402848,  2.58078204,\n",
       "         2.8675356 ]),\n",
       " <a list of 10 Patch objects>)"
      ]
     },
     "execution_count": 235,
     "metadata": {},
     "output_type": "execute_result"
    },
    {
     "data": {
      "image/png": "[encoded data removed]",
      "text/plain": [
       "<matplotlib.figure.Figure at 0x116d940d0>"
      ]
     },
     "metadata": {},
     "output_type": "display_data"
    }
   ],
   "source": [
    "plt.hist(res.predict_trans)"
   ]
  },
  {
   "cell_type": "code",
   "execution_count": 204,
   "metadata": {
    "collapsed": true
   },
   "outputs": [],
   "source": [
    "def cal_corre(train):\n",
    "    sns.set(style=\"white\")\n",
    "\n",
    "\n",
    "    # Compute the correlation matrix\n",
    "    corr = train.corr()\n",
    "\n",
    "\n",
    "    # Set up the matplotlib figure\n",
    "    f, ax = plt.subplots(figsize=(11, 9))\n",
    "\n",
    "    # Generate a custom diverging colormap\n",
    "    cmap = sns.diverging_palette(220, 10, as_cmap=True)\n",
    "\n",
    "    # Draw the heatmap with the mask and correct aspect ratio\n",
    "    sns.heatmap(corr, cmap=cmap, vmax=.3, center=0,\n",
    "                square=True, linewidths=.5, cbar_kws={\"shrink\": .5})\n",
    "\n",
    "    plt.show()\n"
   ]
  },
  {
   "cell_type": "code",
   "execution_count": 244,
   "metadata": {},
   "outputs": [
    {
     "data": {
      "text/plain": [
       "(array([  8.94080000e+04,   1.32100000e+03,   1.83000000e+02,\n",
       "          5.20000000e+01,   1.80000000e+01,   4.00000000e+00,\n",
       "          4.00000000e+00,   1.00000000e+00,   0.00000000e+00,\n",
       "          2.00000000e+00]),\n",
       " array([      0.        ,   32999.99999898,   65999.99999796,\n",
       "          98999.99999694,  131999.99999593,  164999.99999491,\n",
       "         197999.99999389,  230999.99999287,  263999.99999185,\n",
       "         296999.99999083,  329999.99998982]),\n",
       " <a list of 10 Patch objects>)"
      ]
     },
     "execution_count": 244,
     "metadata": {},
     "output_type": "execute_result"
    },
    {
     "data": {
      "image/png": "[encoded data removed]",
      "text/plain": [
       "<matplotlib.figure.Figure at 0x119908750>"
      ]
     },
     "metadata": {},
     "output_type": "display_data"
    }
   ],
   "source": [
    "plt.hist(train_data.aug)"
   ]
  },
  {
   "cell_type": "code",
   "execution_count": 44,
   "metadata": {
    "collapsed": true
   },
   "outputs": [],
   "source": [
    "res = pd.read_table('../model/20171201.csv',sep=',')"
   ]
  },
  {
   "cell_type": "code",
   "execution_count": 45,
   "metadata": {},
   "outputs": [
    {
     "data": {
      "text/plain": [
       "Index([u'1', u'0.0'], dtype='object')"
      ]
     },
     "execution_count": 45,
     "metadata": {},
     "output_type": "execute_result"
    }
   ],
   "source": [
    "res.columns"
   ]
  },
  {
   "cell_type": "code",
   "execution_count": 46,
   "metadata": {},
   "outputs": [
    {
     "data": {
      "text/html": [
       "<div>\n",
       "<table border=\"1\" class=\"dataframe\">\n",
       "  <thead>\n",
       "    <tr style=\"text-align: right;\">\n",
       "      <th></th>\n",
       "      <th>1</th>\n",
       "      <th>0.0</th>\n",
       "    </tr>\n",
       "  </thead>\n",
       "  <tbody>\n",
       "    <tr>\n",
       "      <th>0</th>\n",
       "      <td>2</td>\n",
       "      <td>0.000000</td>\n",
       "    </tr>\n",
       "    <tr>\n",
       "      <th>1</th>\n",
       "      <td>3</td>\n",
       "      <td>0.000000</td>\n",
       "    </tr>\n",
       "    <tr>\n",
       "      <th>2</th>\n",
       "      <td>4</td>\n",
       "      <td>3.478264</td>\n",
       "    </tr>\n",
       "    <tr>\n",
       "      <th>3</th>\n",
       "      <td>5</td>\n",
       "      <td>1.933687</td>\n",
       "    </tr>\n",
       "    <tr>\n",
       "      <th>4</th>\n",
       "      <td>6</td>\n",
       "      <td>3.685598</td>\n",
       "    </tr>\n",
       "    <tr>\n",
       "      <th>5</th>\n",
       "      <td>7</td>\n",
       "      <td>0.000000</td>\n",
       "    </tr>\n",
       "    <tr>\n",
       "      <th>6</th>\n",
       "      <td>8</td>\n",
       "      <td>0.000000</td>\n",
       "    </tr>\n",
       "    <tr>\n",
       "      <th>7</th>\n",
       "      <td>9</td>\n",
       "      <td>0.000000</td>\n",
       "    </tr>\n",
       "    <tr>\n",
       "      <th>8</th>\n",
       "      <td>10</td>\n",
       "      <td>0.000000</td>\n",
       "    </tr>\n",
       "    <tr>\n",
       "      <th>9</th>\n",
       "      <td>11</td>\n",
       "      <td>0.000000</td>\n",
       "    </tr>\n",
       "    <tr>\n",
       "      <th>10</th>\n",
       "      <td>12</td>\n",
       "      <td>0.000000</td>\n",
       "    </tr>\n",
       "    <tr>\n",
       "      <th>11</th>\n",
       "      <td>13</td>\n",
       "      <td>0.000000</td>\n",
       "    </tr>\n",
       "    <tr>\n",
       "      <th>12</th>\n",
       "      <td>14</td>\n",
       "      <td>0.000000</td>\n",
       "    </tr>\n",
       "    <tr>\n",
       "      <th>13</th>\n",
       "      <td>15</td>\n",
       "      <td>0.000000</td>\n",
       "    </tr>\n",
       "    <tr>\n",
       "      <th>14</th>\n",
       "      <td>16</td>\n",
       "      <td>0.000000</td>\n",
       "    </tr>\n",
       "    <tr>\n",
       "      <th>15</th>\n",
       "      <td>17</td>\n",
       "      <td>2.462563</td>\n",
       "    </tr>\n",
       "    <tr>\n",
       "      <th>16</th>\n",
       "      <td>18</td>\n",
       "      <td>0.000000</td>\n",
       "    </tr>\n",
       "    <tr>\n",
       "      <th>17</th>\n",
       "      <td>19</td>\n",
       "      <td>2.643239</td>\n",
       "    </tr>\n",
       "    <tr>\n",
       "      <th>18</th>\n",
       "      <td>20</td>\n",
       "      <td>5.079899</td>\n",
       "    </tr>\n",
       "    <tr>\n",
       "      <th>19</th>\n",
       "      <td>21</td>\n",
       "      <td>0.000000</td>\n",
       "    </tr>\n",
       "    <tr>\n",
       "      <th>20</th>\n",
       "      <td>22</td>\n",
       "      <td>0.000000</td>\n",
       "    </tr>\n",
       "    <tr>\n",
       "      <th>21</th>\n",
       "      <td>23</td>\n",
       "      <td>2.713941</td>\n",
       "    </tr>\n",
       "    <tr>\n",
       "      <th>22</th>\n",
       "      <td>24</td>\n",
       "      <td>0.000000</td>\n",
       "    </tr>\n",
       "    <tr>\n",
       "      <th>23</th>\n",
       "      <td>25</td>\n",
       "      <td>0.000000</td>\n",
       "    </tr>\n",
       "    <tr>\n",
       "      <th>24</th>\n",
       "      <td>26</td>\n",
       "      <td>0.571124</td>\n",
       "    </tr>\n",
       "    <tr>\n",
       "      <th>25</th>\n",
       "      <td>27</td>\n",
       "      <td>0.578054</td>\n",
       "    </tr>\n",
       "    <tr>\n",
       "      <th>26</th>\n",
       "      <td>28</td>\n",
       "      <td>2.872678</td>\n",
       "    </tr>\n",
       "    <tr>\n",
       "      <th>27</th>\n",
       "      <td>29</td>\n",
       "      <td>0.000000</td>\n",
       "    </tr>\n",
       "    <tr>\n",
       "      <th>28</th>\n",
       "      <td>30</td>\n",
       "      <td>0.000000</td>\n",
       "    </tr>\n",
       "    <tr>\n",
       "      <th>29</th>\n",
       "      <td>31</td>\n",
       "      <td>0.000000</td>\n",
       "    </tr>\n",
       "    <tr>\n",
       "      <th>...</th>\n",
       "      <td>...</td>\n",
       "      <td>...</td>\n",
       "    </tr>\n",
       "    <tr>\n",
       "      <th>90962</th>\n",
       "      <td>90964</td>\n",
       "      <td>0.000000</td>\n",
       "    </tr>\n",
       "    <tr>\n",
       "      <th>90963</th>\n",
       "      <td>90965</td>\n",
       "      <td>0.000000</td>\n",
       "    </tr>\n",
       "    <tr>\n",
       "      <th>90964</th>\n",
       "      <td>90966</td>\n",
       "      <td>0.000000</td>\n",
       "    </tr>\n",
       "    <tr>\n",
       "      <th>90965</th>\n",
       "      <td>90967</td>\n",
       "      <td>0.000000</td>\n",
       "    </tr>\n",
       "    <tr>\n",
       "      <th>90966</th>\n",
       "      <td>90968</td>\n",
       "      <td>0.000000</td>\n",
       "    </tr>\n",
       "    <tr>\n",
       "      <th>90967</th>\n",
       "      <td>90969</td>\n",
       "      <td>4.773379</td>\n",
       "    </tr>\n",
       "    <tr>\n",
       "      <th>90968</th>\n",
       "      <td>90970</td>\n",
       "      <td>1.466400</td>\n",
       "    </tr>\n",
       "    <tr>\n",
       "      <th>90969</th>\n",
       "      <td>90971</td>\n",
       "      <td>2.610781</td>\n",
       "    </tr>\n",
       "    <tr>\n",
       "      <th>90970</th>\n",
       "      <td>90972</td>\n",
       "      <td>2.358805</td>\n",
       "    </tr>\n",
       "    <tr>\n",
       "      <th>90971</th>\n",
       "      <td>90973</td>\n",
       "      <td>0.000000</td>\n",
       "    </tr>\n",
       "    <tr>\n",
       "      <th>90972</th>\n",
       "      <td>90974</td>\n",
       "      <td>0.000000</td>\n",
       "    </tr>\n",
       "    <tr>\n",
       "      <th>90973</th>\n",
       "      <td>90975</td>\n",
       "      <td>3.708448</td>\n",
       "    </tr>\n",
       "    <tr>\n",
       "      <th>90974</th>\n",
       "      <td>90976</td>\n",
       "      <td>0.000000</td>\n",
       "    </tr>\n",
       "    <tr>\n",
       "      <th>90975</th>\n",
       "      <td>90977</td>\n",
       "      <td>0.000000</td>\n",
       "    </tr>\n",
       "    <tr>\n",
       "      <th>90976</th>\n",
       "      <td>90978</td>\n",
       "      <td>0.000000</td>\n",
       "    </tr>\n",
       "    <tr>\n",
       "      <th>90977</th>\n",
       "      <td>90979</td>\n",
       "      <td>0.578054</td>\n",
       "    </tr>\n",
       "    <tr>\n",
       "      <th>90978</th>\n",
       "      <td>90980</td>\n",
       "      <td>0.000000</td>\n",
       "    </tr>\n",
       "    <tr>\n",
       "      <th>90979</th>\n",
       "      <td>90981</td>\n",
       "      <td>3.027356</td>\n",
       "    </tr>\n",
       "    <tr>\n",
       "      <th>90980</th>\n",
       "      <td>90982</td>\n",
       "      <td>0.000000</td>\n",
       "    </tr>\n",
       "    <tr>\n",
       "      <th>90981</th>\n",
       "      <td>90983</td>\n",
       "      <td>0.000000</td>\n",
       "    </tr>\n",
       "    <tr>\n",
       "      <th>90982</th>\n",
       "      <td>90984</td>\n",
       "      <td>0.000000</td>\n",
       "    </tr>\n",
       "    <tr>\n",
       "      <th>90983</th>\n",
       "      <td>90985</td>\n",
       "      <td>0.810352</td>\n",
       "    </tr>\n",
       "    <tr>\n",
       "      <th>90984</th>\n",
       "      <td>90986</td>\n",
       "      <td>3.027356</td>\n",
       "    </tr>\n",
       "    <tr>\n",
       "      <th>90985</th>\n",
       "      <td>90987</td>\n",
       "      <td>3.052940</td>\n",
       "    </tr>\n",
       "    <tr>\n",
       "      <th>90986</th>\n",
       "      <td>90988</td>\n",
       "      <td>0.000000</td>\n",
       "    </tr>\n",
       "    <tr>\n",
       "      <th>90987</th>\n",
       "      <td>90989</td>\n",
       "      <td>3.986661</td>\n",
       "    </tr>\n",
       "    <tr>\n",
       "      <th>90988</th>\n",
       "      <td>90990</td>\n",
       "      <td>5.823546</td>\n",
       "    </tr>\n",
       "    <tr>\n",
       "      <th>90989</th>\n",
       "      <td>90991</td>\n",
       "      <td>5.655604</td>\n",
       "    </tr>\n",
       "    <tr>\n",
       "      <th>90990</th>\n",
       "      <td>90992</td>\n",
       "      <td>0.000000</td>\n",
       "    </tr>\n",
       "    <tr>\n",
       "      <th>90991</th>\n",
       "      <td>90993</td>\n",
       "      <td>3.027356</td>\n",
       "    </tr>\n",
       "  </tbody>\n",
       "</table>\n",
       "<p>90992 rows × 2 columns</p>\n",
       "</div>"
      ],
      "text/plain": [
       "           1       0.0\n",
       "0          2  0.000000\n",
       "1          3  0.000000\n",
       "2          4  3.478264\n",
       "3          5  1.933687\n",
       "4          6  3.685598\n",
       "5          7  0.000000\n",
       "6          8  0.000000\n",
       "7          9  0.000000\n",
       "8         10  0.000000\n",
       "9         11  0.000000\n",
       "10        12  0.000000\n",
       "11        13  0.000000\n",
       "12        14  0.000000\n",
       "13        15  0.000000\n",
       "14        16  0.000000\n",
       "15        17  2.462563\n",
       "16        18  0.000000\n",
       "17        19  2.643239\n",
       "18        20  5.079899\n",
       "19        21  0.000000\n",
       "20        22  0.000000\n",
       "21        23  2.713941\n",
       "22        24  0.000000\n",
       "23        25  0.000000\n",
       "24        26  0.571124\n",
       "25        27  0.578054\n",
       "26        28  2.872678\n",
       "27        29  0.000000\n",
       "28        30  0.000000\n",
       "29        31  0.000000\n",
       "...      ...       ...\n",
       "90962  90964  0.000000\n",
       "90963  90965  0.000000\n",
       "90964  90966  0.000000\n",
       "90965  90967  0.000000\n",
       "90966  90968  0.000000\n",
       "90967  90969  4.773379\n",
       "90968  90970  1.466400\n",
       "90969  90971  2.610781\n",
       "90970  90972  2.358805\n",
       "90971  90973  0.000000\n",
       "90972  90974  0.000000\n",
       "90973  90975  3.708448\n",
       "90974  90976  0.000000\n",
       "90975  90977  0.000000\n",
       "90976  90978  0.000000\n",
       "90977  90979  0.578054\n",
       "90978  90980  0.000000\n",
       "90979  90981  3.027356\n",
       "90980  90982  0.000000\n",
       "90981  90983  0.000000\n",
       "90982  90984  0.000000\n",
       "90983  90985  0.810352\n",
       "90984  90986  3.027356\n",
       "90985  90987  3.052940\n",
       "90986  90988  0.000000\n",
       "90987  90989  3.986661\n",
       "90988  90990  5.823546\n",
       "90989  90991  5.655604\n",
       "90990  90992  0.000000\n",
       "90991  90993  3.027356\n",
       "\n",
       "[90992 rows x 2 columns]"
      ]
     },
     "execution_count": 46,
     "metadata": {},
     "output_type": "execute_result"
    }
   ],
   "source": []
  },
  {
   "cell_type": "code",
   "execution_count": 228,
   "metadata": {
    "collapsed": true
   },
   "outputs": [],
   "source": [
    "p1 = pd.read_csv('../model/20171201.csv')"
   ]
  },
  {
   "cell_type": "code",
   "execution_count": 241,
   "metadata": {
    "collapsed": true
   },
   "outputs": [],
   "source": [
    "p2 = pd.read_csv('../model/20171202.csv')"
   ]
  },
  {
   "cell_type": "code",
   "execution_count": 231,
   "metadata": {},
   "outputs": [
    {
     "data": {
      "text/plain": [
       "(array([ 60227.,   1618.,    962.,   5882.,   7555.,   3254.,   2720.,\n",
       "          4389.,   2973.,   1412.]),\n",
       " array([ 0.        ,  0.62240939,  1.24481878,  1.86722817,  2.48963756,\n",
       "         3.11204695,  3.73445633,  4.35686572,  4.97927511,  5.6016845 ,\n",
       "         6.22409389]),\n",
       " <a list of 10 Patch objects>)"
      ]
     },
     "execution_count": 231,
     "metadata": {},
     "output_type": "execute_result"
    },
    {
     "data": {
      "image/png": "[encoded data removed]",
      "text/plain": [
       "<matplotlib.figure.Figure at 0x110edd050>"
      ]
     },
     "metadata": {},
     "output_type": "display_data"
    }
   ],
   "source": [
    "plt.hist(p1.iloc[:,1])"
   ]
  },
  {
   "cell_type": "code",
   "execution_count": 242,
   "metadata": {},
   "outputs": [
    {
     "data": {
      "text/plain": [
       "(array([ 57332.,   4481.,   5562.,   5918.,   5026.,   2755.,   2578.,\n",
       "          3249.,   2888.,   1203.]),\n",
       " array([ 0.12653045,  0.67502049,  1.22351053,  1.77200057,  2.3204906 ,\n",
       "         2.86898064,  3.41747068,  3.96596071,  4.51445075,  5.06294079,\n",
       "         5.61143083]),\n",
       " <a list of 10 Patch objects>)"
      ]
     },
     "execution_count": 242,
     "metadata": {},
     "output_type": "execute_result"
    },
    {
     "data": {
      "image/png": "[encoded data removed]",
      "text/plain": [
       "<matplotlib.figure.Figure at 0x112f68b10>"
      ]
     },
     "metadata": {},
     "output_type": "display_data"
    }
   ],
   "source": [
    "plt.hist(p2.iloc[:,1])"
   ]
  },
  {
   "cell_type": "code",
   "execution_count": 232,
   "metadata": {},
   "outputs": [
    {
     "data": {
      "text/plain": [
       "(array([ 61821.,   2524.,   4195.,   2856.,   2507.,   7127.,   1587.,\n",
       "          4186.,   2773.,   1416.]),\n",
       " array([ 0.        ,  0.67294547,  1.34589093,  2.0188364 ,  2.69178187,\n",
       "         3.36472734,  4.0376728 ,  4.71061827,  5.38356374,  6.05650921,\n",
       "         6.72945467]),\n",
       " <a list of 10 Patch objects>)"
      ]
     },
     "execution_count": 232,
     "metadata": {},
     "output_type": "execute_result"
    },
    {
     "data": {
      "image/png": "[encoded data removed]",
      "text/plain": [
       "<matplotlib.figure.Figure at 0x110ec9750>"
      ]
     },
     "metadata": {},
     "output_type": "display_data"
    }
   ],
   "source": [
    "plt.hist(p2.iloc[:,1])"
   ]
  },
  {
   "cell_type": "code",
   "execution_count": 212,
   "metadata": {},
   "outputs": [
    {
     "data": {
      "text/plain": [
       "(array([ 61692.,   2654.,   4817.,   2269.,   2019.,   7613.,   1533.,\n",
       "          4241.,   2739.,   1416.]),\n",
       " array([ 0.        ,  0.67555495,  1.35110989,  2.02666484,  2.70221979,\n",
       "         3.37777474,  4.05332968,  4.72888463,  5.40443958,  6.07999453,\n",
       "         6.75554947]),\n",
       " <a list of 10 Patch objects>)"
      ]
     },
     "execution_count": 212,
     "metadata": {},
     "output_type": "execute_result"
    },
    {
     "data": {
      "image/png": "[encoded data removed]",
      "text/plain": [
       "<matplotlib.figure.Figure at 0x11f1abe10>"
      ]
     },
     "metadata": {},
     "output_type": "display_data"
    }
   ],
   "source": [
    "plt.hist(res.predict_real)"
   ]
  },
  {
   "cell_type": "code",
   "execution_count": 214,
   "metadata": {},
   "outputs": [
    {
     "data": {
      "text/plain": [
       "Index([u'predict_real', u'uid'], dtype='object')"
      ]
     },
     "execution_count": 214,
     "metadata": {},
     "output_type": "execute_result"
    }
   ],
   "source": [
    "res.columns"
   ]
  },
  {
   "cell_type": "code",
   "execution_count": 247,
   "metadata": {
    "collapsed": true
   },
   "outputs": [],
   "source": [
    "def gen_user_date(user_df , loan_df):\n",
    "\tdate_all = loan_df['loan_time'].str.split(' ', expand=True)[0]\n",
    "\tstart_date = pd.to_datetime(date_all.min(), format='%Y-%m-%d')\n",
    "\tend_date = pd.to_datetime(date_all.max(), format='%Y-%m-%d')\n",
    "\tdate_list = map(lambda d : datetime.datetime.strftime(d, '%Y-%m-%d'), pd.date_range(start_date, end_date).tolist())\n",
    "\tdate_df = pd.DataFrame(data={'date' : date_list})\n",
    "\t# step 2. join user_df and date_df ('uid', 'active_date', 'date')\n",
    "\tuser_df['key'] = 1\n",
    "\tdate_df['key'] = 1\n",
    "\tuser_date_df = pd.merge(user_df, date_df, on='key')\n",
    "\tuser_date_df['month'] = user_date_df.date.apply(lambda x : str(x)[5 :7 ]).astype('int')\n",
    "\tdel user_date_df['key']\n",
    "\treturn user_date_df[['uid','date','month']]\n"
   ]
  },
  {
   "cell_type": "code",
   "execution_count": 248,
   "metadata": {
    "collapsed": true
   },
   "outputs": [],
   "source": [
    "user_df = pd.read_csv(user_fn)\n",
    "loan_df = pd.read_csv(loan_fn)"
   ]
  },
  {
   "cell_type": "code",
   "execution_count": 249,
   "metadata": {
    "collapsed": true
   },
   "outputs": [],
   "source": [
    "res = gen_user_date(user_df , loan_df)"
   ]
  },
  {
   "cell_type": "code",
   "execution_count": 251,
   "metadata": {},
   "outputs": [
    {
     "data": {
      "text/plain": [
       "(90993, 10919160)"
      ]
     },
     "execution_count": 251,
     "metadata": {},
     "output_type": "execute_result"
    }
   ],
   "source": [
    "len(user_df),len(res)"
   ]
  },
  {
   "cell_type": "code",
   "execution_count": 255,
   "metadata": {},
   "outputs": [
    {
     "data": {
      "text/plain": [
       "90993"
      ]
     },
     "execution_count": 255,
     "metadata": {},
     "output_type": "execute_result"
    }
   ],
   "source": [
    "len(res.groupby(['uid']).size())"
   ]
  },
  {
   "cell_type": "code",
   "execution_count": 256,
   "metadata": {},
   "outputs": [
    {
     "data": {
      "text/html": [
       "<div>\n",
       "<table border=\"1\" class=\"dataframe\">\n",
       "  <thead>\n",
       "    <tr style=\"text-align: right;\">\n",
       "      <th></th>\n",
       "      <th>month</th>\n",
       "    </tr>\n",
       "    <tr>\n",
       "      <th>uid</th>\n",
       "      <th></th>\n",
       "    </tr>\n",
       "  </thead>\n",
       "  <tbody>\n",
       "    <tr>\n",
       "      <th>1</th>\n",
       "      <td>120</td>\n",
       "    </tr>\n",
       "    <tr>\n",
       "      <th>2</th>\n",
       "      <td>120</td>\n",
       "    </tr>\n",
       "    <tr>\n",
       "      <th>3</th>\n",
       "      <td>120</td>\n",
       "    </tr>\n",
       "    <tr>\n",
       "      <th>4</th>\n",
       "      <td>120</td>\n",
       "    </tr>\n",
       "    <tr>\n",
       "      <th>5</th>\n",
       "      <td>120</td>\n",
       "    </tr>\n",
       "    <tr>\n",
       "      <th>6</th>\n",
       "      <td>120</td>\n",
       "    </tr>\n",
       "    <tr>\n",
       "      <th>7</th>\n",
       "      <td>120</td>\n",
       "    </tr>\n",
       "    <tr>\n",
       "      <th>8</th>\n",
       "      <td>120</td>\n",
       "    </tr>\n",
       "    <tr>\n",
       "      <th>9</th>\n",
       "      <td>120</td>\n",
       "    </tr>\n",
       "    <tr>\n",
       "      <th>10</th>\n",
       "      <td>120</td>\n",
       "    </tr>\n",
       "    <tr>\n",
       "      <th>11</th>\n",
       "      <td>120</td>\n",
       "    </tr>\n",
       "    <tr>\n",
       "      <th>12</th>\n",
       "      <td>120</td>\n",
       "    </tr>\n",
       "    <tr>\n",
       "      <th>13</th>\n",
       "      <td>120</td>\n",
       "    </tr>\n",
       "    <tr>\n",
       "      <th>14</th>\n",
       "      <td>120</td>\n",
       "    </tr>\n",
       "    <tr>\n",
       "      <th>15</th>\n",
       "      <td>120</td>\n",
       "    </tr>\n",
       "    <tr>\n",
       "      <th>16</th>\n",
       "      <td>120</td>\n",
       "    </tr>\n",
       "    <tr>\n",
       "      <th>17</th>\n",
       "      <td>120</td>\n",
       "    </tr>\n",
       "    <tr>\n",
       "      <th>18</th>\n",
       "      <td>120</td>\n",
       "    </tr>\n",
       "    <tr>\n",
       "      <th>19</th>\n",
       "      <td>120</td>\n",
       "    </tr>\n",
       "    <tr>\n",
       "      <th>20</th>\n",
       "      <td>120</td>\n",
       "    </tr>\n",
       "    <tr>\n",
       "      <th>21</th>\n",
       "      <td>120</td>\n",
       "    </tr>\n",
       "    <tr>\n",
       "      <th>22</th>\n",
       "      <td>120</td>\n",
       "    </tr>\n",
       "    <tr>\n",
       "      <th>23</th>\n",
       "      <td>120</td>\n",
       "    </tr>\n",
       "    <tr>\n",
       "      <th>24</th>\n",
       "      <td>120</td>\n",
       "    </tr>\n",
       "    <tr>\n",
       "      <th>25</th>\n",
       "      <td>120</td>\n",
       "    </tr>\n",
       "    <tr>\n",
       "      <th>26</th>\n",
       "      <td>120</td>\n",
       "    </tr>\n",
       "    <tr>\n",
       "      <th>27</th>\n",
       "      <td>120</td>\n",
       "    </tr>\n",
       "    <tr>\n",
       "      <th>28</th>\n",
       "      <td>120</td>\n",
       "    </tr>\n",
       "    <tr>\n",
       "      <th>29</th>\n",
       "      <td>120</td>\n",
       "    </tr>\n",
       "    <tr>\n",
       "      <th>30</th>\n",
       "      <td>120</td>\n",
       "    </tr>\n",
       "    <tr>\n",
       "      <th>...</th>\n",
       "      <td>...</td>\n",
       "    </tr>\n",
       "    <tr>\n",
       "      <th>90964</th>\n",
       "      <td>120</td>\n",
       "    </tr>\n",
       "    <tr>\n",
       "      <th>90965</th>\n",
       "      <td>120</td>\n",
       "    </tr>\n",
       "    <tr>\n",
       "      <th>90966</th>\n",
       "      <td>120</td>\n",
       "    </tr>\n",
       "    <tr>\n",
       "      <th>90967</th>\n",
       "      <td>120</td>\n",
       "    </tr>\n",
       "    <tr>\n",
       "      <th>90968</th>\n",
       "      <td>120</td>\n",
       "    </tr>\n",
       "    <tr>\n",
       "      <th>90969</th>\n",
       "      <td>120</td>\n",
       "    </tr>\n",
       "    <tr>\n",
       "      <th>90970</th>\n",
       "      <td>120</td>\n",
       "    </tr>\n",
       "    <tr>\n",
       "      <th>90971</th>\n",
       "      <td>120</td>\n",
       "    </tr>\n",
       "    <tr>\n",
       "      <th>90972</th>\n",
       "      <td>120</td>\n",
       "    </tr>\n",
       "    <tr>\n",
       "      <th>90973</th>\n",
       "      <td>120</td>\n",
       "    </tr>\n",
       "    <tr>\n",
       "      <th>90974</th>\n",
       "      <td>120</td>\n",
       "    </tr>\n",
       "    <tr>\n",
       "      <th>90975</th>\n",
       "      <td>120</td>\n",
       "    </tr>\n",
       "    <tr>\n",
       "      <th>90976</th>\n",
       "      <td>120</td>\n",
       "    </tr>\n",
       "    <tr>\n",
       "      <th>90977</th>\n",
       "      <td>120</td>\n",
       "    </tr>\n",
       "    <tr>\n",
       "      <th>90978</th>\n",
       "      <td>120</td>\n",
       "    </tr>\n",
       "    <tr>\n",
       "      <th>90979</th>\n",
       "      <td>120</td>\n",
       "    </tr>\n",
       "    <tr>\n",
       "      <th>90980</th>\n",
       "      <td>120</td>\n",
       "    </tr>\n",
       "    <tr>\n",
       "      <th>90981</th>\n",
       "      <td>120</td>\n",
       "    </tr>\n",
       "    <tr>\n",
       "      <th>90982</th>\n",
       "      <td>120</td>\n",
       "    </tr>\n",
       "    <tr>\n",
       "      <th>90983</th>\n",
       "      <td>120</td>\n",
       "    </tr>\n",
       "    <tr>\n",
       "      <th>90984</th>\n",
       "      <td>120</td>\n",
       "    </tr>\n",
       "    <tr>\n",
       "      <th>90985</th>\n",
       "      <td>120</td>\n",
       "    </tr>\n",
       "    <tr>\n",
       "      <th>90986</th>\n",
       "      <td>120</td>\n",
       "    </tr>\n",
       "    <tr>\n",
       "      <th>90987</th>\n",
       "      <td>120</td>\n",
       "    </tr>\n",
       "    <tr>\n",
       "      <th>90988</th>\n",
       "      <td>120</td>\n",
       "    </tr>\n",
       "    <tr>\n",
       "      <th>90989</th>\n",
       "      <td>120</td>\n",
       "    </tr>\n",
       "    <tr>\n",
       "      <th>90990</th>\n",
       "      <td>120</td>\n",
       "    </tr>\n",
       "    <tr>\n",
       "      <th>90991</th>\n",
       "      <td>120</td>\n",
       "    </tr>\n",
       "    <tr>\n",
       "      <th>90992</th>\n",
       "      <td>120</td>\n",
       "    </tr>\n",
       "    <tr>\n",
       "      <th>90993</th>\n",
       "      <td>120</td>\n",
       "    </tr>\n",
       "  </tbody>\n",
       "</table>\n",
       "<p>90993 rows × 1 columns</p>\n",
       "</div>"
      ],
      "text/plain": [
       "       month\n",
       "uid         \n",
       "1        120\n",
       "2        120\n",
       "3        120\n",
       "4        120\n",
       "5        120\n",
       "6        120\n",
       "7        120\n",
       "8        120\n",
       "9        120\n",
       "10       120\n",
       "11       120\n",
       "12       120\n",
       "13       120\n",
       "14       120\n",
       "15       120\n",
       "16       120\n",
       "17       120\n",
       "18       120\n",
       "19       120\n",
       "20       120\n",
       "21       120\n",
       "22       120\n",
       "23       120\n",
       "24       120\n",
       "25       120\n",
       "26       120\n",
       "27       120\n",
       "28       120\n",
       "29       120\n",
       "30       120\n",
       "...      ...\n",
       "90964    120\n",
       "90965    120\n",
       "90966    120\n",
       "90967    120\n",
       "90968    120\n",
       "90969    120\n",
       "90970    120\n",
       "90971    120\n",
       "90972    120\n",
       "90973    120\n",
       "90974    120\n",
       "90975    120\n",
       "90976    120\n",
       "90977    120\n",
       "90978    120\n",
       "90979    120\n",
       "90980    120\n",
       "90981    120\n",
       "90982    120\n",
       "90983    120\n",
       "90984    120\n",
       "90985    120\n",
       "90986    120\n",
       "90987    120\n",
       "90988    120\n",
       "90989    120\n",
       "90990    120\n",
       "90991    120\n",
       "90992    120\n",
       "90993    120\n",
       "\n",
       "[90993 rows x 1 columns]"
      ]
     },
     "execution_count": 256,
     "metadata": {},
     "output_type": "execute_result"
    }
   ],
   "source": [
    "agg = res.groupby(['uid']).agg({\"month\":pd.Series})\n",
    "agg[agg.month != 4]"
   ]
  },
  {
   "cell_type": "code",
   "execution_count": 258,
   "metadata": {},
   "outputs": [
    {
     "data": {
      "text/plain": [
       "120"
      ]
     },
     "execution_count": 258,
     "metadata": {},
     "output_type": "execute_result"
    }
   ],
   "source": [
    "len(set(res.date))"
   ]
  },
  {
   "cell_type": "code",
   "execution_count": 261,
   "metadata": {
    "collapsed": true
   },
   "outputs": [],
   "source": [
    "user_month_date = pd.read_csv('fea_user_month_date.csv')"
   ]
  },
  {
   "cell_type": "code",
   "execution_count": 260,
   "metadata": {},
   "outputs": [
    {
     "data": {
      "text/plain": [
       "Index([u'uid,date,month,real_limit,month_need_pay,left_balance,real_loan_amount,tuned_limit'], dtype='object')"
      ]
     },
     "execution_count": 260,
     "metadata": {},
     "output_type": "execute_result"
    }
   ],
   "source": [
    "user_month_date.columns"
   ]
  },
  {
   "cell_type": "code",
   "execution_count": 262,
   "metadata": {},
   "outputs": [
    {
     "data": {
      "text/plain": [
       "363972"
      ]
     },
     "execution_count": 262,
     "metadata": {},
     "output_type": "execute_result"
    }
   ],
   "source": [
    "user_month_date[['uid','month','month_need_pay']].drop_duplicates().shape[0]"
   ]
  },
  {
   "cell_type": "code",
   "execution_count": 264,
   "metadata": {},
   "outputs": [
    {
     "data": {
      "text/plain": [
       "['aug',\n",
       " 'left_balance',\n",
       " 'month_need_pay',\n",
       " 'oct',\n",
       " 'real_loan_amount',\n",
       " 'real_loan_amount_kurt',\n",
       " 'real_loan_amount_mad',\n",
       " 'real_loan_amount_max',\n",
       " 'real_loan_amount_mean',\n",
       " 'real_loan_amount_median',\n",
       " 'real_loan_amount_min',\n",
       " 'real_loan_amount_month_kurt',\n",
       " 'real_loan_amount_month_mad',\n",
       " 'real_loan_amount_month_max',\n",
       " 'real_loan_amount_month_mean',\n",
       " 'real_loan_amount_month_median',\n",
       " 'real_loan_amount_month_min',\n",
       " 'real_loan_amount_month_skew',\n",
       " 'real_loan_amount_month_std',\n",
       " 'real_loan_amount_month_sum',\n",
       " 'real_loan_amount_skew',\n",
       " 'real_loan_amount_std',\n",
       " 'real_loan_amount_sum',\n",
       " 'sep',\n",
       " 'tuned_limit']"
      ]
     },
     "execution_count": 264,
     "metadata": {},
     "output_type": "execute_result"
    }
   ],
   "source": [
    "list(train_feature_names)"
   ]
  },
  {
   "cell_type": "code",
   "execution_count": 265,
   "metadata": {},
   "outputs": [
    {
     "data": {
      "text/plain": [
       "Index([u'uid', u'age', u'sex', u'active_date', u'limit', u'key'], dtype='object')"
      ]
     },
     "execution_count": 265,
     "metadata": {},
     "output_type": "execute_result"
    }
   ],
   "source": [
    "user_df.columns"
   ]
  },
  {
   "cell_type": "code",
   "execution_count": 266,
   "metadata": {
    "collapsed": true
   },
   "outputs": [],
   "source": [
    "user_df['limit_bucket'] = user_df.limit.astype('int')"
   ]
  },
  {
   "cell_type": "code",
   "execution_count": 267,
   "metadata": {
    "collapsed": true
   },
   "outputs": [],
   "source": [
    "import seaborn as sns"
   ]
  },
  {
   "cell_type": "code",
   "execution_count": 268,
   "metadata": {},
   "outputs": [
    {
     "data": {
      "text/plain": [
       "<matplotlib.axes._subplots.AxesSubplot at 0x110aa62d0>"
      ]
     },
     "execution_count": 268,
     "metadata": {},
     "output_type": "execute_result"
    },
    {
     "data": {
      "image/png": "[encoded data removed]",
      "text/plain": [
       "<matplotlib.figure.Figure at 0x113498450>"
      ]
     },
     "metadata": {},
     "output_type": "display_data"
    }
   ],
   "source": [
    "sns.countplot(user_df.limit_bucket)"
   ]
  },
  {
   "cell_type": "code",
   "execution_count": 274,
   "metadata": {},
   "outputs": [
    {
     "data": {
      "text/plain": [
       "<matplotlib.axes._subplots.AxesSubplot at 0x10fd1acd0>"
      ]
     },
     "execution_count": 274,
     "metadata": {},
     "output_type": "execute_result"
    },
    {
     "data": {
      "image/png": "[encoded data removed]",
      "text/plain": [
       "<matplotlib.figure.Figure at 0x1119f9290>"
      ]
     },
     "metadata": {},
     "output_type": "display_data"
    }
   ],
   "source": [
    "sns.countplot(user_df.limit)"
   ]
  },
  {
   "cell_type": "code",
   "execution_count": 270,
   "metadata": {},
   "outputs": [
    {
     "data": {
      "text/plain": [
       "3124"
      ]
     },
     "execution_count": 270,
     "metadata": {},
     "output_type": "execute_result"
    }
   ],
   "source": [
    "5**5-1"
   ]
  },
  {
   "cell_type": "code",
   "execution_count": 271,
   "metadata": {},
   "outputs": [
    {
     "data": {
      "text/plain": [
       "7775"
      ]
     },
     "execution_count": 271,
     "metadata": {},
     "output_type": "execute_result"
    }
   ],
   "source": [
    "6**5-1"
   ]
  },
  {
   "cell_type": "code",
   "execution_count": 272,
   "metadata": {},
   "outputs": [
    {
     "data": {
      "text/plain": [
       "16806"
      ]
     },
     "execution_count": 272,
     "metadata": {},
     "output_type": "execute_result"
    }
   ],
   "source": [
    "7**5-1"
   ]
  },
  {
   "cell_type": "code",
   "execution_count": 275,
   "metadata": {},
   "outputs": [
    {
     "data": {
      "text/plain": [
       "{5.2921539288000004,\n",
       " 5.7227683627000001,\n",
       " 5.9746772897000007,\n",
       " 6.1534138563000003,\n",
       " 6.2920545271000003}"
      ]
     },
     "execution_count": 275,
     "metadata": {},
     "output_type": "execute_result"
    }
   ],
   "source": [
    "set(user_df.limit)"
   ]
  },
  {
   "cell_type": "code",
   "execution_count": 276,
   "metadata": {
    "collapsed": true
   },
   "outputs": [],
   "source": [
    "dummies = pd.get_dummies(user_df.limit)"
   ]
  },
  {
   "cell_type": "code",
   "execution_count": 278,
   "metadata": {},
   "outputs": [],
   "source": [
    "from sklearn import preprocessing"
   ]
  },
  {
   "cell_type": "code",
   "execution_count": 279,
   "metadata": {
    "collapsed": true
   },
   "outputs": [],
   "source": [
    "le = preprocessing.LabelEncoder()"
   ]
  },
  {
   "cell_type": "code",
   "execution_count": 281,
   "metadata": {},
   "outputs": [
    {
     "data": {
      "text/plain": [
       "LabelEncoder()"
      ]
     },
     "execution_count": 281,
     "metadata": {},
     "output_type": "execute_result"
    }
   ],
   "source": [
    "le.fit(list(set(user_df.limit)))"
   ]
  },
  {
   "cell_type": "code",
   "execution_count": 282,
   "metadata": {},
   "outputs": [
    {
     "data": {
      "text/plain": [
       "array([0, 3, 4, 2, 1])"
      ]
     },
     "execution_count": 282,
     "metadata": {},
     "output_type": "execute_result"
    }
   ],
   "source": [
    "le.transform(list(set(user_df.limit)))"
   ]
  },
  {
   "cell_type": "code",
   "execution_count": 283,
   "metadata": {},
   "outputs": [
    {
     "data": {
      "text/plain": [
       "[5.2921539288000004,\n",
       " 6.1534138563000003,\n",
       " 6.2920545271000003,\n",
       " 5.9746772897000007,\n",
       " 5.7227683627000001]"
      ]
     },
     "execution_count": 283,
     "metadata": {},
     "output_type": "execute_result"
    }
   ],
   "source": [
    "list(set(user_df.limit))"
   ]
  },
  {
   "cell_type": "code",
   "execution_count": 284,
   "metadata": {
    "collapsed": true
   },
   "outputs": [],
   "source": [
    "user_df['limit_cat'] = le.transform(user_df.limit)"
   ]
  },
  {
   "cell_type": "code",
   "execution_count": 287,
   "metadata": {},
   "outputs": [
    {
     "data": {
      "text/html": [
       "<div>\n",
       "<table border=\"1\" class=\"dataframe\">\n",
       "  <thead>\n",
       "    <tr style=\"text-align: right;\">\n",
       "      <th></th>\n",
       "      <th>limit_cat</th>\n",
       "    </tr>\n",
       "  </thead>\n",
       "  <tbody>\n",
       "    <tr>\n",
       "      <th>0</th>\n",
       "      <td>5.292154</td>\n",
       "    </tr>\n",
       "    <tr>\n",
       "      <th>1</th>\n",
       "      <td>6.153414</td>\n",
       "    </tr>\n",
       "    <tr>\n",
       "      <th>2</th>\n",
       "      <td>6.292055</td>\n",
       "    </tr>\n",
       "    <tr>\n",
       "      <th>3</th>\n",
       "      <td>5.974677</td>\n",
       "    </tr>\n",
       "    <tr>\n",
       "      <th>4</th>\n",
       "      <td>5.722768</td>\n",
       "    </tr>\n",
       "  </tbody>\n",
       "</table>\n",
       "</div>"
      ],
      "text/plain": [
       "   limit_cat\n",
       "0   5.292154\n",
       "1   6.153414\n",
       "2   6.292055\n",
       "3   5.974677\n",
       "4   5.722768"
      ]
     },
     "execution_count": 287,
     "metadata": {},
     "output_type": "execute_result"
    }
   ],
   "source": [
    "pd.DataFrame( data={'limit_cat' :list(set(user_df.limit)) })\n"
   ]
  },
  {
   "cell_type": "code",
   "execution_count": 288,
   "metadata": {},
   "outputs": [
    {
     "ename": "CParserError",
     "evalue": "Error tokenizing data. C error: Expected 1 fields in line 10, saw 2\n",
     "output_type": "error",
     "traceback": [
      "\u001b[0;31m---------------------------------------------------------------------------\u001b[0m",
      "\u001b[0;31mCParserError\u001b[0m                              Traceback (most recent call last)",
      "\u001b[0;32m<ipython-input-288-fd03130b8c0d>\u001b[0m in \u001b[0;36m<module>\u001b[0;34m()\u001b[0m\n\u001b[0;32m----> 1\u001b[0;31m \u001b[0mlimit_date_df\u001b[0m  \u001b[0;34m=\u001b[0m \u001b[0mpd\u001b[0m\u001b[0;34m.\u001b[0m\u001b[0mread_table\u001b[0m\u001b[0;34m(\u001b[0m\u001b[0;34m'limit_date_dim.py'\u001b[0m\u001b[0;34m)\u001b[0m\u001b[0;34m\u001b[0m\u001b[0m\n\u001b[0m",
      "\u001b[0;32m/Library/Python/2.7/site-packages/pandas/io/parsers.py\u001b[0m in \u001b[0;36mparser_f\u001b[0;34m(filepath_or_buffer, sep, delimiter, header, names, index_col, usecols, squeeze, prefix, mangle_dupe_cols, dtype, engine, converters, true_values, false_values, skipinitialspace, skiprows, skipfooter, nrows, na_values, keep_default_na, na_filter, verbose, skip_blank_lines, parse_dates, infer_datetime_format, keep_date_col, date_parser, dayfirst, iterator, chunksize, compression, thousands, decimal, lineterminator, quotechar, quoting, escapechar, comment, encoding, dialect, tupleize_cols, error_bad_lines, warn_bad_lines, skip_footer, doublequote, delim_whitespace, as_recarray, compact_ints, use_unsigned, low_memory, buffer_lines, memory_map, float_precision)\u001b[0m\n\u001b[1;32m    560\u001b[0m                     skip_blank_lines=skip_blank_lines)\n\u001b[1;32m    561\u001b[0m \u001b[0;34m\u001b[0m\u001b[0m\n\u001b[0;32m--> 562\u001b[0;31m         \u001b[0;32mreturn\u001b[0m \u001b[0m_read\u001b[0m\u001b[0;34m(\u001b[0m\u001b[0mfilepath_or_buffer\u001b[0m\u001b[0;34m,\u001b[0m \u001b[0mkwds\u001b[0m\u001b[0;34m)\u001b[0m\u001b[0;34m\u001b[0m\u001b[0m\n\u001b[0m\u001b[1;32m    563\u001b[0m \u001b[0;34m\u001b[0m\u001b[0m\n\u001b[1;32m    564\u001b[0m     \u001b[0mparser_f\u001b[0m\u001b[0;34m.\u001b[0m\u001b[0m__name__\u001b[0m \u001b[0;34m=\u001b[0m \u001b[0mname\u001b[0m\u001b[0;34m\u001b[0m\u001b[0m\n",
      "\u001b[0;32m/Library/Python/2.7/site-packages/pandas/io/parsers.py\u001b[0m in \u001b[0;36m_read\u001b[0;34m(filepath_or_buffer, kwds)\u001b[0m\n\u001b[1;32m    323\u001b[0m         \u001b[0;32mreturn\u001b[0m \u001b[0mparser\u001b[0m\u001b[0;34m\u001b[0m\u001b[0m\n\u001b[1;32m    324\u001b[0m \u001b[0;34m\u001b[0m\u001b[0m\n\u001b[0;32m--> 325\u001b[0;31m     \u001b[0;32mreturn\u001b[0m \u001b[0mparser\u001b[0m\u001b[0;34m.\u001b[0m\u001b[0mread\u001b[0m\u001b[0;34m(\u001b[0m\u001b[0;34m)\u001b[0m\u001b[0;34m\u001b[0m\u001b[0m\n\u001b[0m\u001b[1;32m    326\u001b[0m \u001b[0;34m\u001b[0m\u001b[0m\n\u001b[1;32m    327\u001b[0m _parser_defaults = {\n",
      "\u001b[0;32m/Library/Python/2.7/site-packages/pandas/io/parsers.py\u001b[0m in \u001b[0;36mread\u001b[0;34m(self, nrows)\u001b[0m\n\u001b[1;32m    813\u001b[0m                 \u001b[0;32mraise\u001b[0m \u001b[0mValueError\u001b[0m\u001b[0;34m(\u001b[0m\u001b[0;34m'skip_footer not supported for iteration'\u001b[0m\u001b[0;34m)\u001b[0m\u001b[0;34m\u001b[0m\u001b[0m\n\u001b[1;32m    814\u001b[0m \u001b[0;34m\u001b[0m\u001b[0m\n\u001b[0;32m--> 815\u001b[0;31m         \u001b[0mret\u001b[0m \u001b[0;34m=\u001b[0m \u001b[0mself\u001b[0m\u001b[0;34m.\u001b[0m\u001b[0m_engine\u001b[0m\u001b[0;34m.\u001b[0m\u001b[0mread\u001b[0m\u001b[0;34m(\u001b[0m\u001b[0mnrows\u001b[0m\u001b[0;34m)\u001b[0m\u001b[0;34m\u001b[0m\u001b[0m\n\u001b[0m\u001b[1;32m    816\u001b[0m \u001b[0;34m\u001b[0m\u001b[0m\n\u001b[1;32m    817\u001b[0m         \u001b[0;32mif\u001b[0m \u001b[0mself\u001b[0m\u001b[0;34m.\u001b[0m\u001b[0moptions\u001b[0m\u001b[0;34m.\u001b[0m\u001b[0mget\u001b[0m\u001b[0;34m(\u001b[0m\u001b[0;34m'as_recarray'\u001b[0m\u001b[0;34m)\u001b[0m\u001b[0;34m:\u001b[0m\u001b[0;34m\u001b[0m\u001b[0m\n",
      "\u001b[0;32m/Library/Python/2.7/site-packages/pandas/io/parsers.py\u001b[0m in \u001b[0;36mread\u001b[0;34m(self, nrows)\u001b[0m\n\u001b[1;32m   1312\u001b[0m     \u001b[0;32mdef\u001b[0m \u001b[0mread\u001b[0m\u001b[0;34m(\u001b[0m\u001b[0mself\u001b[0m\u001b[0;34m,\u001b[0m \u001b[0mnrows\u001b[0m\u001b[0;34m=\u001b[0m\u001b[0mNone\u001b[0m\u001b[0;34m)\u001b[0m\u001b[0;34m:\u001b[0m\u001b[0;34m\u001b[0m\u001b[0m\n\u001b[1;32m   1313\u001b[0m         \u001b[0;32mtry\u001b[0m\u001b[0;34m:\u001b[0m\u001b[0;34m\u001b[0m\u001b[0m\n\u001b[0;32m-> 1314\u001b[0;31m             \u001b[0mdata\u001b[0m \u001b[0;34m=\u001b[0m \u001b[0mself\u001b[0m\u001b[0;34m.\u001b[0m\u001b[0m_reader\u001b[0m\u001b[0;34m.\u001b[0m\u001b[0mread\u001b[0m\u001b[0;34m(\u001b[0m\u001b[0mnrows\u001b[0m\u001b[0;34m)\u001b[0m\u001b[0;34m\u001b[0m\u001b[0m\n\u001b[0m\u001b[1;32m   1315\u001b[0m         \u001b[0;32mexcept\u001b[0m \u001b[0mStopIteration\u001b[0m\u001b[0;34m:\u001b[0m\u001b[0;34m\u001b[0m\u001b[0m\n\u001b[1;32m   1316\u001b[0m             \u001b[0;32mif\u001b[0m \u001b[0mself\u001b[0m\u001b[0;34m.\u001b[0m\u001b[0m_first_chunk\u001b[0m\u001b[0;34m:\u001b[0m\u001b[0;34m\u001b[0m\u001b[0m\n",
      "\u001b[0;32mpandas/parser.pyx\u001b[0m in \u001b[0;36mpandas.parser.TextReader.read (pandas/parser.c:8748)\u001b[0;34m()\u001b[0m\n",
      "\u001b[0;32mpandas/parser.pyx\u001b[0m in \u001b[0;36mpandas.parser.TextReader._read_low_memory (pandas/parser.c:9003)\u001b[0;34m()\u001b[0m\n",
      "\u001b[0;32mpandas/parser.pyx\u001b[0m in \u001b[0;36mpandas.parser.TextReader._read_rows (pandas/parser.c:9731)\u001b[0;34m()\u001b[0m\n",
      "\u001b[0;32mpandas/parser.pyx\u001b[0m in \u001b[0;36mpandas.parser.TextReader._tokenize_rows (pandas/parser.c:9602)\u001b[0;34m()\u001b[0m\n",
      "\u001b[0;32mpandas/parser.pyx\u001b[0m in \u001b[0;36mpandas.parser.raise_parser_error (pandas/parser.c:23325)\u001b[0;34m()\u001b[0m\n",
      "\u001b[0;31mCParserError\u001b[0m: Error tokenizing data. C error: Expected 1 fields in line 10, saw 2\n"
     ]
    }
   ],
   "source": [
    "limit_date_df  = pd.read_table('limit_date_dim.cclk_user_cate_cnt')"
   ]
  },
  {
   "cell_type": "code",
   "execution_count": null,
   "metadata": {
    "collapsed": true
   },
   "outputs": [],
   "source": []
  }
 ],
 "metadata": {
  "kernelspec": {
   "display_name": "Python 2",
   "language": "python",
   "name": "python2"
  },
  "language_info": {
   "codemirror_mode": {
    "name": "ipython",
    "version": 2
   },
   "file_extension": ".py",
   "mimetype": "text/x-python",
   "name": "python",
   "nbconvert_exporter": "python",
   "pygments_lexer": "ipython2",
   "version": "2.7.10"
  }
 },
 "nbformat": 4,
 "nbformat_minor": 2
}

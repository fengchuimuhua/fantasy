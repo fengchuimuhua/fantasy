{
 "cells": [
  {
   "cell_type": "code",
   "execution_count": 29,
   "metadata": {
    "collapsed": true
   },
   "outputs": [],
   "source": [
    "import pandas as pd\n",
    "import numpy as np\n",
    "import numpy as np\n",
    "import pandas as pd\n",
    "import matplotlib.pyplot as plt\n",
    "%matplotlib inline  \n",
    "from sklearn import linear_model\n",
    "from sklearn.metrics import r2_score\n",
    "from sklearn.preprocessing import PolynomialFeatures\n",
    "from sklearn.model_selection import StratifiedKFold\n",
    "from sklearn import ensemble\n",
    "import pandas as pd\n",
    "import numpy as np\n",
    "import datetime\n",
    "#coding:utf-8\n",
    "import pandas as pd\n",
    "import numpy as np\n",
    "import matplotlib.pyplot as plt\n",
    "%matplotlib inline  \n",
    "\n",
    "dtfmt = '%Y-%m-%d %H:%M:%S' \n",
    "import timeit\n",
    "import time\n",
    "import itertools\n",
    "import datetime\n",
    "import lightgbm as lgbm\n",
    "import math"
   ]
  },
  {
   "cell_type": "code",
   "execution_count": 85,
   "metadata": {},
   "outputs": [],
   "source": [
    "def gen_fea(user_fn, click_fn, order_fn, loan_fn , loan_sum_fn):\n",
    "    # step 0. INIT raw data\n",
    "    user_df = pd.read_csv(user_fn)[['uid', 'active_date']]\n",
    "    clk_df = pd.read_csv(click_fn) # uid, click_time, pid, param\n",
    "    ord_df = pd.read_csv(order_fn)\n",
    "    loan_df = pd.read_csv(loan_fn)\n",
    "    loan_sum_fn = pd.read_csv(loan_sum_fn)\n",
    "\n",
    "    #step 1 . convert load data to real data space     \n",
    "    loan_df = transform(loan_df , 'loan_amount')\n",
    "    loan_sum_df = transform(loan_sum_fn , 'loan_sum')\n",
    "    \n",
    "    #step 2 . add loan month , dt \n",
    "    loan_df['month'] = loan_df.loan_time.apply(lambda x : x[5:7]).astype('int')\n",
    "    \n",
    "    #step 3. user per month\n",
    "    poi_set = list(set(user_df.uid))\n",
    "    months = [8 , 9 ,10 , 11]\n",
    "    poi_month = []\n",
    "    import itertools\n",
    "    for x in itertools.product(poi_set , months):\n",
    "        poi_month.append(x)\n",
    "    poi_per_month_df = pd.DataFrame(poi_month , columns=['uid','month'])\n",
    "    \n",
    "    #step 4. user loan agg info, mean,max,median,\n",
    "\n",
    "    func_names = ['sum','mean','std', 'min' ,'max' ,'median' ]\n",
    "    column_names = [ 'real_loan_amount_' + t for t in func_names]\n",
    "    user_agg_df = loan_df.groupby(['uid']).agg({\"real_loan_amount\":[np.sum , np.mean , np.std , np.min , np.max , np.median ]})['real_loan_amount']    \n",
    "    user_agg_df.columns = column_names\n",
    "    user_agg_df = user_agg_df.reset_index() # add uid to column\n",
    "    \n",
    "    #step 5. user month loan sum \n",
    "   \n",
    "    column_names = [ 'real_loan_amount_month_' + t for t in func_names]\n",
    "    user_month_sum_df = loan_df.groupby(['uid','month']).agg({\"real_loan_amount\": np.sum }).reset_index()\n",
    "    \n",
    "    #setp 6. user month loan sum agg info. mean,max,....\n",
    "    user_month_agg_df = user_month_sum_df.groupby(['uid']).agg({\"real_loan_amount\":[np.sum , np.mean , np.std , np.min , np.max , np.median ]})['real_loan_amount']\n",
    "    user_month_agg_df.columns = column_names\n",
    "    user_month_agg_df = user_month_agg_df.reset_index()\n",
    "    \n",
    "    #step 7. user month loan sum \n",
    "    \n",
    "    flatten_user_month_sum_df = pd.merge( poi_per_month_df , user_month_sum_df , on=['uid' , 'month'] , how='left').fillna(0)\n",
    "    flatten_user_month_sum_df = flatten_user_month_sum_df.set_index(['uid','month'])['real_loan_amount'].unstack().reset_index()\n",
    "    flatten_user_month_sum_df.columns = [ 'uid','aug','sep','oct','nov']\n",
    "    \n",
    "    \n",
    "    #step 8. feature agg \n",
    "    \n",
    "    user_loan_feature_df = pd.merge(flatten_user_month_sum_df , user_agg_df , on=['uid'] , how='left' ).fillna(0)\n",
    "    user_loan_feature_df = pd.merge(user_loan_feature_df , user_month_agg_df , on=['uid'] , how='left').fillna(0)\n",
    "    user_loan_feature_df = pd.merge(user_loan_feature_df , loan_sum_df , on=['uid'] , how='left').fillna(0)\n",
    "    \n",
    "    #step 9. save file \n",
    "    user_loan_feature_df.to_csv('../')\n",
    "    return user_loan_feature_df\n",
    "\n",
    "def transform(data , column_name):\n",
    "    #loan.loan_amount.apply(lambda x :math.log(x+1 , 5))\n",
    "    new_column_name = \"real_\" + column_name\n",
    "    new_column = data[column_name].apply(lambda x :5**x - 1)\n",
    "    data[new_column_name] = new_column\n",
    "    return data "
   ]
  },
  {
   "cell_type": "code",
   "execution_count": 208,
   "metadata": {},
   "outputs": [
    {
     "name": "stdout",
     "output_type": "stream",
     "text": [
      "time cost : 0:00:15.751440\n"
     ]
    }
   ],
   "source": [
    "\n",
    "st = datetime.datetime.now()\n",
    "user_fn = '../../../raw_data/t_user.csv'\n",
    "click_fn = '../../../raw_data/t_click.csv'\n",
    "order_fn = '../../../raw_data/t_order.csv'\n",
    "loan_fn = '../../../raw_data/t_loan.csv'\n",
    "loan_sum_fn = '../../../raw_data/t_loan_sum.csv'\n",
    "\n",
    "train_data = gen_fea(user_fn, click_fn, order_fn, loan_fn , loan_sum_fn)\n",
    "et = datetime.datetime.now()\n",
    "print 'time cost : ' + str(et - st)"
   ]
  },
  {
   "cell_type": "code",
   "execution_count": 94,
   "metadata": {},
   "outputs": [],
   "source": [
    "import pandas as p"
   ]
  },
  {
   "cell_type": "code",
   "execution_count": 209,
   "metadata": {
    "collapsed": true
   },
   "outputs": [],
   "source": [
    "drop_list = ['uid' , 'nov' , 'real_loan_sum' , 'month','loan_sum']\n",
    "train_feature_names = np.setdiff1d(feature.columns , drop_list)\n",
    "target = ['real_loan_sum']\n",
    "\n",
    "drop_list = ['uid' , 'aug' , 'real_loan_sum' , 'month','loan_sum']\n",
    "test_feature_names = np.setdiff1d(feature.columns , drop_list)\n"
   ]
  },
  {
   "cell_type": "code",
   "execution_count": 216,
   "metadata": {},
   "outputs": [],
   "source": [
    "y_train = (feature[train_feature_names].values)[: , 0]\n",
    "y_test = (feature[train_feature_names].values)[:,0]\n",
    "X_train = feature[train_feature_names].values\n",
    "X_test = feature[train_feature_names].values\n",
    "\n",
    "X_predict= feature[test_feature_names].values\n",
    "# create dataset for lightgbm\n",
    "lgb_train = lgbm.Dataset(X_train, y_train)\n",
    "lgb_eval = lgbm.Dataset(X_test, y_test, reference=lgb_train)\n",
    "params = {\n",
    "    'task': 'train',\n",
    "    'boosting_type': 'rf',\n",
    "    'max_depth':5 , \n",
    "    'num_leaves': 63,\n",
    "    'num_trees': 500,\n",
    "    'learning_rate': 0.01,\n",
    "    'feature_fraction': 0.9,\n",
    "    'bagging_fraction': 0.8,\n",
    "    'bagging_freq': 5,\n",
    "    'verbose': 0\n",
    "}\n",
    "\n",
    "gbm = lgbm.train(params,\n",
    "                lgb_train,\n",
    "                num_boost_round=20,\n",
    "                valid_sets=lgb_eval\n",
    "               )\n"
   ]
  },
  {
   "cell_type": "code",
   "execution_count": 217,
   "metadata": {},
   "outputs": [
    {
     "data": {
      "text/html": [
       "<div>\n",
       "<table border=\"1\" class=\"dataframe\">\n",
       "  <thead>\n",
       "    <tr style=\"text-align: right;\">\n",
       "      <th></th>\n",
       "      <th>featuren</th>\n",
       "      <th>importance</th>\n",
       "    </tr>\n",
       "  </thead>\n",
       "  <tbody>\n",
       "    <tr>\n",
       "      <th>0</th>\n",
       "      <td>aug</td>\n",
       "      <td>12933</td>\n",
       "    </tr>\n",
       "    <tr>\n",
       "      <th>1</th>\n",
       "      <td>oct</td>\n",
       "      <td>488</td>\n",
       "    </tr>\n",
       "    <tr>\n",
       "      <th>11</th>\n",
       "      <td>real_loan_amount_month_sum</td>\n",
       "      <td>462</td>\n",
       "    </tr>\n",
       "    <tr>\n",
       "      <th>14</th>\n",
       "      <td>sep</td>\n",
       "      <td>258</td>\n",
       "    </tr>\n",
       "    <tr>\n",
       "      <th>6</th>\n",
       "      <td>real_loan_amount_month_max</td>\n",
       "      <td>207</td>\n",
       "    </tr>\n",
       "    <tr>\n",
       "      <th>9</th>\n",
       "      <td>real_loan_amount_month_min</td>\n",
       "      <td>102</td>\n",
       "    </tr>\n",
       "    <tr>\n",
       "      <th>10</th>\n",
       "      <td>real_loan_amount_month_std</td>\n",
       "      <td>64</td>\n",
       "    </tr>\n",
       "    <tr>\n",
       "      <th>2</th>\n",
       "      <td>real_loan_amount_max</td>\n",
       "      <td>55</td>\n",
       "    </tr>\n",
       "    <tr>\n",
       "      <th>13</th>\n",
       "      <td>real_loan_amount_sum</td>\n",
       "      <td>37</td>\n",
       "    </tr>\n",
       "    <tr>\n",
       "      <th>5</th>\n",
       "      <td>real_loan_amount_min</td>\n",
       "      <td>19</td>\n",
       "    </tr>\n",
       "    <tr>\n",
       "      <th>7</th>\n",
       "      <td>real_loan_amount_month_mean</td>\n",
       "      <td>18</td>\n",
       "    </tr>\n",
       "    <tr>\n",
       "      <th>3</th>\n",
       "      <td>real_loan_amount_mean</td>\n",
       "      <td>11</td>\n",
       "    </tr>\n",
       "    <tr>\n",
       "      <th>8</th>\n",
       "      <td>real_loan_amount_month_median</td>\n",
       "      <td>10</td>\n",
       "    </tr>\n",
       "    <tr>\n",
       "      <th>12</th>\n",
       "      <td>real_loan_amount_std</td>\n",
       "      <td>6</td>\n",
       "    </tr>\n",
       "    <tr>\n",
       "      <th>4</th>\n",
       "      <td>real_loan_amount_median</td>\n",
       "      <td>2</td>\n",
       "    </tr>\n",
       "  </tbody>\n",
       "</table>\n",
       "</div>"
      ],
      "text/plain": [
       "                         featuren  importance\n",
       "0                             aug       12933\n",
       "1                             oct         488\n",
       "11     real_loan_amount_month_sum         462\n",
       "14                            sep         258\n",
       "6      real_loan_amount_month_max         207\n",
       "9      real_loan_amount_month_min         102\n",
       "10     real_loan_amount_month_std          64\n",
       "2            real_loan_amount_max          55\n",
       "13           real_loan_amount_sum          37\n",
       "5            real_loan_amount_min          19\n",
       "7     real_loan_amount_month_mean          18\n",
       "3           real_loan_amount_mean          11\n",
       "8   real_loan_amount_month_median          10\n",
       "12           real_loan_amount_std           6\n",
       "4         real_loan_amount_median           2"
      ]
     },
     "execution_count": 217,
     "metadata": {},
     "output_type": "execute_result"
    }
   ],
   "source": [
    " pd.DataFrame(zip(feature_names, gbm.feature_importance(importance_type='split', iteration=-1))  , columns=['featuren','importance']).sort_values(['importance'] , ascending=False)"
   ]
  },
  {
   "cell_type": "code",
   "execution_count": 191,
   "metadata": {},
   "outputs": [
    {
     "data": {
      "text/plain": [
       "3.3298908095725532"
      ]
     },
     "execution_count": 191,
     "metadata": {},
     "output_type": "execute_result"
    }
   ],
   "source": [
    "#train rmse\n",
    "res = pd.DataFrame( zip(gbm.predict(X_train) , y_train) , columns=['predict_real','gt_real']  )\n",
    "res['predict_trans'] = res.predict_real.apply(lambda x : math.log(x +1 , 5))\n",
    "res['gt_trans'] = res.gt_real.apply(lambda x : math.log(x +1 , 5))\n",
    "res['uid'] = feature.uid\n",
    "mean_squared_error(res.gt_trans , res.predict_trans)"
   ]
  },
  {
   "cell_type": "code",
   "execution_count": 218,
   "metadata": {},
   "outputs": [],
   "source": [
    "#submmision\n",
    "res = pd.DataFrame( (gbm.predict(X_predict) ) , columns=['predict_real']  )\n",
    "res['predict_trans'] = res.predict_real.apply(lambda x : math.log(x +1 , 5))\n",
    "\n",
    "res['uid'] = feature.uid\n",
    "res[['uid','predict_trans']].to_csv('../model/20171129.csv',index=False, header=False,)"
   ]
  },
  {
   "cell_type": "code",
   "execution_count": 173,
   "metadata": {
    "collapsed": true
   },
   "outputs": [],
   "source": [
    "from sklearn.metrics import mean_squared_error, r2_score"
   ]
  },
  {
   "cell_type": "code",
   "execution_count": 196,
   "metadata": {},
   "outputs": [
    {
     "data": {
      "text/plain": [
       "Index([u'predict_real', u'predict_trans', u'uid'], dtype='object')"
      ]
     },
     "execution_count": 196,
     "metadata": {},
     "output_type": "execute_result"
    }
   ],
   "source": [
    "res.columns"
   ]
  },
  {
   "cell_type": "code",
   "execution_count": 193,
   "metadata": {},
   "outputs": [
    {
     "data": {
      "text/plain": [
       "46"
      ]
     },
     "execution_count": 193,
     "metadata": {},
     "output_type": "execute_result"
    }
   ],
   "source": [
    "len(set(res.predict_trans))"
   ]
  },
  {
   "cell_type": "code",
   "execution_count": 194,
   "metadata": {},
   "outputs": [
    {
     "data": {
      "text/plain": [
       "(array([ 54816.,      0.,      0.,      0.,      0.,      0.,      0.,\n",
       "             0.,      0.,  36177.]),\n",
       " array([ 0.47600161,  0.71515501,  0.95430841,  1.19346181,  1.43261521,\n",
       "         1.67176861,  1.91092201,  2.15007541,  2.38922881,  2.6283822 ,\n",
       "         2.8675356 ]),\n",
       " <a list of 10 Patch objects>)"
      ]
     },
     "execution_count": 194,
     "metadata": {},
     "output_type": "execute_result"
    },
    {
     "data": {
      "image/png": "[encoded data removed]",
      "text/plain": [
       "<matplotlib.figure.Figure at 0x114b9b4d0>"
      ]
     },
     "metadata": {},
     "output_type": "display_data"
    }
   ],
   "source": [
    "plt.hist(res.predict_trans)"
   ]
  },
  {
   "cell_type": "code",
   "execution_count": 204,
   "metadata": {
    "collapsed": true
   },
   "outputs": [],
   "source": [
    "def cal_corre(train):\n",
    "    sns.set(style=\"white\")\n",
    "\n",
    "\n",
    "    # Compute the correlation matrix\n",
    "    corr = train.corr()\n",
    "\n",
    "\n",
    "    # Set up the matplotlib figure\n",
    "    f, ax = plt.subplots(figsize=(11, 9))\n",
    "\n",
    "    # Generate a custom diverging colormap\n",
    "    cmap = sns.diverging_palette(220, 10, as_cmap=True)\n",
    "\n",
    "    # Draw the heatmap with the mask and correct aspect ratio\n",
    "    sns.heatmap(corr, cmap=cmap, vmax=.3, center=0,\n",
    "                square=True, linewidths=.5, cbar_kws={\"shrink\": .5})\n",
    "\n",
    "    plt.show()\n"
   ]
  },
  {
   "cell_type": "code",
   "execution_count": null,
   "metadata": {
    "collapsed": true
   },
   "outputs": [],
   "source": []
  }
 ],
 "metadata": {
  "kernelspec": {
   "display_name": "Python 2",
   "language": "python",
   "name": "python2"
  },
  "language_info": {
   "codemirror_mode": {
    "name": "ipython",
    "version": 2
   },
   "file_extension": ".py",
   "mimetype": "text/x-python",
   "name": "python",
   "nbconvert_exporter": "python",
   "pygments_lexer": "ipython2",
   "version": "2.7.10"
  }
 },
 "nbformat": 4,
 "nbformat_minor": 2
}
